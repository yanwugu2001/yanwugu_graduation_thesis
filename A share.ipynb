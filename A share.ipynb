{
 "cells": [
  {
   "cell_type": "markdown",
   "metadata": {},
   "source": [
    "# Data Process"
   ]
  },
  {
   "cell_type": "code",
   "execution_count": 12,
   "metadata": {},
   "outputs": [],
   "source": [
    "import numpy as np\n",
    "import pandas as pd\n",
    "import os\n",
    "import matplotlib.pyplot as plt\n",
    "import datetime\n",
    "import random"
   ]
  },
  {
   "cell_type": "code",
   "execution_count": 2,
   "metadata": {
    "ExecuteTime": {
     "end_time": "2023-03-04T12:58:38.744592Z",
     "start_time": "2023-03-04T12:58:38.740428Z"
    }
   },
   "outputs": [],
   "source": [
    "import pandas as pd\n",
    "data= pd.read_pickle('/Users/guyanwu/Downloads/day_data_all.pkl')\n",
    "df_feature = pd.read_pickle('/Volumes/WDSN570/df_feature_clean_v4.pkl')"
   ]
  },
  {
   "cell_type": "code",
   "execution_count": 40,
   "metadata": {},
   "outputs": [],
   "source": [
    "dates_iloc = []\n",
    "for i in ['17'+str(i).zfill(2) for i in range(3, 13)] + \\\n",
    "         ['18'+str(i).zfill(2) for i in range(1, 13)] + \\\n",
    "         ['19'+str(i).zfill(2) for i in range(1, 13)] + \\\n",
    "         ['20'+str(i).zfill(2) for i in range(1, 13)] + \\\n",
    "         ['2101', '2102', '2103']:\n",
    "    dates_iloc.append(df_feature[df_feature['date'].astype(str).str.startswith('20'+i)].index[0])\n",
    "dates_iloc.append(df_feature.shape[0])\n",
    "train_len = dates_iloc[0]"
   ]
  },
  {
   "cell_type": "code",
   "execution_count": 4,
   "metadata": {},
   "outputs": [],
   "source": [
    "alpha_list = list(df_feature.columns)[10:-2]"
   ]
  },
  {
   "cell_type": "markdown",
   "metadata": {},
   "source": [
    "# Functino Definition"
   ]
  },
  {
   "cell_type": "code",
   "execution_count": 5,
   "metadata": {},
   "outputs": [],
   "source": [
    "def l_bin(x, y, w):\n",
    "    z = np.dot(x, w)\n",
    "    return np.log(1+np.exp(-y*z)).mean()\n",
    "\n",
    "def l_bin_grad(x, y, w):\n",
    "    z = np.dot(x, w)\n",
    "    g = np.dot(-y * np.exp(-y*z) / (1+np.exp(-y*z)), x) / x.shape[0]\n",
    "    return g\n",
    "\n",
    "def l_mul(x, y, w):\n",
    "    z = np.array([np.dot(x, w[i*11:(i+1)*11]) for i in range(6)])\n",
    "    return (np.log(np.exp(z).sum(axis=0)) - z[y, np.arange(z.shape[1])]).mean()\n",
    "\n",
    "def l_mul_grad(x, y, w):\n",
    "    z = np.array([np.dot(x, w[i*11:(i+1)*11]) for i in range(6)])\n",
    "    ez = np.exp(z).sum(axis=0)\n",
    "    g = np.dot((np.exp(z) / ez), x)\n",
    "    for i in range(6):\n",
    "        g[i] -= x[y==i].sum(axis=0)\n",
    "    return g.reshape(-1)"
   ]
  },
  {
   "cell_type": "code",
   "execution_count": 22,
   "metadata": {},
   "outputs": [],
   "source": [
    "def GD(train_set_x, train_set_y, w, _type, learning_rate = 1e-4):\n",
    "    if _type == 'bin':\n",
    "        grad = l_bin_grad\n",
    "    elif _type == 'mul':\n",
    "        grad = l_mul_grad\n",
    "    else:\n",
    "        raise ValueError('type must be bin or mul')\n",
    "    start_time = datetime.datetime.now()\n",
    "    while datetime.datetime.now() - start_time < datetime.timedelta(seconds=300):\n",
    "        for data_x, data_y in zip(train_set_x, train_set_y):\n",
    "            # l = loss(data_x, data_y, w)\n",
    "            g = grad(data_x, data_y, w)\n",
    "            w -= learning_rate * g\n",
    "            if np.linalg.norm(w) > 10:\n",
    "                w = w /  np.linalg.norm(w) * 10\n",
    "    return w"
   ]
  },
  {
   "cell_type": "code",
   "execution_count": 23,
   "metadata": {},
   "outputs": [],
   "source": [
    "def MBGD(train_set_x, train_set_y, w, _type, batch_size=64, learning_rate=1e-4):\n",
    "    if _type == 'bin':\n",
    "        grad = l_bin_grad\n",
    "    elif _type == 'mul':\n",
    "        grad = l_mul_grad\n",
    "    else:\n",
    "        raise ValueError('type must be bin or mul')\n",
    "    start_time = datetime.datetime.now()\n",
    "    while datetime.datetime.now() - start_time < datetime.timedelta(seconds=300):\n",
    "        rand_index = random.sample(range(train_set_x.shape[0]), batch_size)\n",
    "        data_x = train_set_x[rand_index]\n",
    "        data_y = train_set_y[rand_index]\n",
    "        # l = loss(data_x, data_y, w)\n",
    "        g = grad(data_x, data_y, w)\n",
    "        w -= learning_rate * g\n",
    "        if np.linalg.norm(w) > 10:\n",
    "            w = w /  np.linalg.norm(w) * 10\n",
    "    return w"
   ]
  },
  {
   "cell_type": "code",
   "execution_count": 24,
   "metadata": {},
   "outputs": [],
   "source": [
    "def SGDM(train_set_x, train_set_y, w, _type, beta=0.6, batch_size=64, learning_rate=1e-4):\n",
    "    if _type == 'bin':\n",
    "        grad = l_bin_grad\n",
    "    elif _type == 'mul':\n",
    "        grad = l_mul_grad\n",
    "    else:\n",
    "        raise ValueError('type must be bin or mul')\n",
    "    start_time = datetime.datetime.now()\n",
    "    record_v = w.copy() * 0\n",
    "    while datetime.datetime.now() - start_time < datetime.timedelta(seconds=300):\n",
    "        rand_index = random.sample(range(train_set_x.shape[0]), batch_size)\n",
    "        data_x = train_set_x[rand_index]\n",
    "        data_y = train_set_y[rand_index]\n",
    "        # l = loss(data_x, data_y, w)\n",
    "        g = grad(data_x, data_y, w)\n",
    "        v = beta * record_v + (1-beta) * g\n",
    "        record_v = v.copy()\n",
    "        w -= learning_rate * v\n",
    "        if np.linalg.norm(w) > 10:\n",
    "            w = w /  np.linalg.norm(w) * 10\n",
    "    return w"
   ]
  },
  {
   "cell_type": "code",
   "execution_count": 25,
   "metadata": {},
   "outputs": [],
   "source": [
    "def NAG(train_set_x, train_set_y, w, _type, beta=0.6, batch_size=64, learning_rate=1e-4):\n",
    "    if _type == 'bin':\n",
    "        grad = l_bin_grad\n",
    "    elif _type == 'mul':\n",
    "        grad = l_mul_grad\n",
    "    else:\n",
    "        raise ValueError('type must be bin or mul')\n",
    "    start_time = datetime.datetime.now()\n",
    "    record_v = w.copy() * 0\n",
    "    while datetime.datetime.now() - start_time < datetime.timedelta(seconds=300):\n",
    "        rand_index = random.sample(range(train_set_x.shape[0]), batch_size)\n",
    "        data_x = train_set_x[rand_index]\n",
    "        data_y = train_set_y[rand_index]\n",
    "        # l = loss(data_x, data_y, w)\n",
    "        g = grad(data_x, data_y, w - beta * record_v)\n",
    "        v = beta * record_v + learning_rate * g\n",
    "        record_v = v.copy()\n",
    "        w -= v\n",
    "        if np.linalg.norm(w) > 10:\n",
    "            w = w /  np.linalg.norm(w) * 10\n",
    "    return w"
   ]
  },
  {
   "cell_type": "code",
   "execution_count": 26,
   "metadata": {},
   "outputs": [],
   "source": [
    "def AdaGrad(train_set_x, train_set_y, w, _type, batch_size=64, learning_rate=1e-4):\n",
    "    if _type == 'bin':\n",
    "        grad = l_bin_grad\n",
    "    elif _type == 'mul':\n",
    "        grad = l_mul_grad\n",
    "    else:\n",
    "        raise ValueError('type must be bin or mul')\n",
    "    start_time = datetime.datetime.now()\n",
    "    r = 0\n",
    "    while datetime.datetime.now() - start_time < datetime.timedelta(seconds=300):\n",
    "        rand_index = random.sample(range(train_set_x.shape[0]), batch_size)\n",
    "        data_x = train_set_x[rand_index]\n",
    "        data_y = train_set_y[rand_index]\n",
    "        g = grad(data_x, data_y, w)\n",
    "        r += np.linalg.norm(g)**2\n",
    "        w -= learning_rate * g / (np.sqrt(r) + 1e-8)\n",
    "        if np.linalg.norm(w) > 10:\n",
    "            w = w /  np.linalg.norm(w) * 10\n",
    "    return w"
   ]
  },
  {
   "cell_type": "code",
   "execution_count": 27,
   "metadata": {},
   "outputs": [],
   "source": [
    "def Adam(train_set_x, train_set_y, w, _type, beta1=0.8, beta2=0.8, batch_size=64, learning_rate=1e-4):\n",
    "    if _type == 'bin':\n",
    "        grad = l_bin_grad\n",
    "    elif _type == 'mul':\n",
    "        grad = l_mul_grad\n",
    "    else:\n",
    "        raise ValueError('type must be bin or mul')\n",
    "    start_time = datetime.datetime.now()\n",
    "    m_record = w.copy() * 0\n",
    "    v_record = 0\n",
    "    iteration = 1\n",
    "    while datetime.datetime.now() - start_time < datetime.timedelta(seconds=300):\n",
    "        rand_index = random.sample(range(train_set_x.shape[0]), batch_size)\n",
    "        data_x = train_set_x[rand_index]\n",
    "        data_y = train_set_y[rand_index]\n",
    "        g = grad(data_x, data_y, w)\n",
    "        m = beta1 * m_record + (1-beta1) * g\n",
    "        v = beta2 * v_record + (1-beta2) * np.linalg.norm(g)**2\n",
    "        m_record = m.copy()\n",
    "        v_record = v\n",
    "        w -= m / (1 - beta1 ** (iteration)) * learning_rate / np.sqrt(v / (1 - beta2 ** (iteration)) + 1e-8)\n",
    "        if np.linalg.norm(w) > 10:\n",
    "            w = w /  np.linalg.norm(w) * 10\n",
    "        iteration += 1\n",
    "    return w"
   ]
  },
  {
   "cell_type": "code",
   "execution_count": 28,
   "metadata": {},
   "outputs": [],
   "source": [
    "def ONS(train_set_x, train_set_y, w, _type, epsilon=0.1, batch_size=64, learning_rate=1e-4):\n",
    "    if _type == 'bin':\n",
    "        grad = l_bin_grad\n",
    "    elif _type == 'mul':\n",
    "        grad = l_mul_grad\n",
    "    else:\n",
    "        raise ValueError('type must be bin or mul')\n",
    "    start_time = datetime.datetime.now()\n",
    "    A = np.eye(w.shape[0]) * epsilon\n",
    "    A_inv = np.eye(w.shape[0]) / epsilon\n",
    "    while datetime.datetime.now() - start_time < datetime.timedelta(seconds=300):\n",
    "        rand_index = random.sample(range(train_set_x.shape[0]), batch_size)\n",
    "        data_x = train_set_x[rand_index]\n",
    "        data_y = train_set_y[rand_index]\n",
    "        g = grad(data_x, data_y, w)\n",
    "        A += np.outer(g, g)\n",
    "        A_inv -= np.outer(A_inv.dot(g), A_inv.dot(g)) / (1 + g.dot(A_inv).dot(g))\n",
    "        w -= learning_rate * A_inv.dot(g)\n",
    "        # if np.linalg.norm(w) > 10:\n",
    "        #     w = w /  np.linalg.norm(w) * 10\n",
    "    return w"
   ]
  },
  {
   "cell_type": "code",
   "execution_count": null,
   "metadata": {},
   "outputs": [],
   "source": []
  },
  {
   "attachments": {},
   "cell_type": "markdown",
   "metadata": {},
   "source": [
    "# main"
   ]
  },
  {
   "cell_type": "code",
   "execution_count": null,
   "metadata": {},
   "outputs": [],
   "source": []
  },
  {
   "cell_type": "markdown",
   "metadata": {},
   "source": [
    "# Test part"
   ]
  },
  {
   "cell_type": "code",
   "execution_count": 42,
   "metadata": {},
   "outputs": [
    {
     "data": {
      "text/plain": [
       "543498"
      ]
     },
     "execution_count": 42,
     "metadata": {},
     "output_type": "execute_result"
    }
   ],
   "source": [
    "dates_iloc[12]"
   ]
  },
  {
   "cell_type": "code",
   "execution_count": 43,
   "metadata": {},
   "outputs": [
    {
     "data": {
      "text/html": [
       "<div>\n",
       "<style scoped>\n",
       "    .dataframe tbody tr th:only-of-type {\n",
       "        vertical-align: middle;\n",
       "    }\n",
       "\n",
       "    .dataframe tbody tr th {\n",
       "        vertical-align: top;\n",
       "    }\n",
       "\n",
       "    .dataframe thead th {\n",
       "        text-align: right;\n",
       "    }\n",
       "</style>\n",
       "<table border=\"1\" class=\"dataframe\">\n",
       "  <thead>\n",
       "    <tr style=\"text-align: right;\">\n",
       "      <th></th>\n",
       "      <th>date</th>\n",
       "      <th>ticker</th>\n",
       "      <th>high</th>\n",
       "      <th>open_</th>\n",
       "      <th>low</th>\n",
       "      <th>close_</th>\n",
       "      <th>volume</th>\n",
       "      <th>vwap</th>\n",
       "      <th>value</th>\n",
       "      <th>ret</th>\n",
       "      <th>...</th>\n",
       "      <th>alpha60</th>\n",
       "      <th>alpha61</th>\n",
       "      <th>alpha62</th>\n",
       "      <th>alpha63</th>\n",
       "      <th>alpha64</th>\n",
       "      <th>alpha65</th>\n",
       "      <th>alpha67</th>\n",
       "      <th>alpha68</th>\n",
       "      <th>return_bin</th>\n",
       "      <th>return_mul</th>\n",
       "    </tr>\n",
       "  </thead>\n",
       "  <tbody>\n",
       "    <tr>\n",
       "      <th>543498</th>\n",
       "      <td>20180301</td>\n",
       "      <td>000001</td>\n",
       "      <td>12.15</td>\n",
       "      <td>11.92</td>\n",
       "      <td>11.90</td>\n",
       "      <td>12.04</td>\n",
       "      <td>886957.18</td>\n",
       "      <td>12.0564</td>\n",
       "      <td>1069354.491</td>\n",
       "      <td>0.000839</td>\n",
       "      <td>...</td>\n",
       "      <td>-0.585974</td>\n",
       "      <td>1.349535</td>\n",
       "      <td>1.348013</td>\n",
       "      <td>-0.193306</td>\n",
       "      <td>-0.305559</td>\n",
       "      <td>-0.539502</td>\n",
       "      <td>-0.824170</td>\n",
       "      <td>1.515700</td>\n",
       "      <td>-1.0</td>\n",
       "      <td>2</td>\n",
       "    </tr>\n",
       "    <tr>\n",
       "      <th>543499</th>\n",
       "      <td>20180301</td>\n",
       "      <td>000002</td>\n",
       "      <td>33.09</td>\n",
       "      <td>32.17</td>\n",
       "      <td>32.02</td>\n",
       "      <td>32.41</td>\n",
       "      <td>336064.32</td>\n",
       "      <td>32.5038</td>\n",
       "      <td>1092337.514</td>\n",
       "      <td>0.015313</td>\n",
       "      <td>...</td>\n",
       "      <td>-1.056775</td>\n",
       "      <td>2.093428</td>\n",
       "      <td>1.952969</td>\n",
       "      <td>-0.731041</td>\n",
       "      <td>-0.311756</td>\n",
       "      <td>-0.586503</td>\n",
       "      <td>-0.530224</td>\n",
       "      <td>2.449666</td>\n",
       "      <td>1.0</td>\n",
       "      <td>4</td>\n",
       "    </tr>\n",
       "    <tr>\n",
       "      <th>543500</th>\n",
       "      <td>20180301</td>\n",
       "      <td>000004</td>\n",
       "      <td>20.98</td>\n",
       "      <td>20.55</td>\n",
       "      <td>20.30</td>\n",
       "      <td>20.79</td>\n",
       "      <td>4877.65</td>\n",
       "      <td>20.8032</td>\n",
       "      <td>10147.098</td>\n",
       "      <td>0.020163</td>\n",
       "      <td>...</td>\n",
       "      <td>0.977481</td>\n",
       "      <td>-1.310026</td>\n",
       "      <td>-1.857542</td>\n",
       "      <td>0.703936</td>\n",
       "      <td>1.314979</td>\n",
       "      <td>0.229161</td>\n",
       "      <td>0.678537</td>\n",
       "      <td>-1.451191</td>\n",
       "      <td>1.0</td>\n",
       "      <td>4</td>\n",
       "    </tr>\n",
       "    <tr>\n",
       "      <th>543501</th>\n",
       "      <td>20180301</td>\n",
       "      <td>000005</td>\n",
       "      <td>3.84</td>\n",
       "      <td>3.80</td>\n",
       "      <td>3.78</td>\n",
       "      <td>3.83</td>\n",
       "      <td>24567.65</td>\n",
       "      <td>3.8207</td>\n",
       "      <td>9386.441</td>\n",
       "      <td>0.005236</td>\n",
       "      <td>...</td>\n",
       "      <td>1.482977</td>\n",
       "      <td>-0.998580</td>\n",
       "      <td>-0.748776</td>\n",
       "      <td>-0.060791</td>\n",
       "      <td>0.617939</td>\n",
       "      <td>-0.876743</td>\n",
       "      <td>2.244473</td>\n",
       "      <td>-1.050600</td>\n",
       "      <td>1.0</td>\n",
       "      <td>3</td>\n",
       "    </tr>\n",
       "    <tr>\n",
       "      <th>543502</th>\n",
       "      <td>20180301</td>\n",
       "      <td>000008</td>\n",
       "      <td>7.58</td>\n",
       "      <td>7.54</td>\n",
       "      <td>7.49</td>\n",
       "      <td>7.52</td>\n",
       "      <td>113348.78</td>\n",
       "      <td>7.5252</td>\n",
       "      <td>85297.795</td>\n",
       "      <td>0.010638</td>\n",
       "      <td>...</td>\n",
       "      <td>-0.500777</td>\n",
       "      <td>0.937980</td>\n",
       "      <td>0.745381</td>\n",
       "      <td>-1.177845</td>\n",
       "      <td>0.404036</td>\n",
       "      <td>1.033795</td>\n",
       "      <td>0.877007</td>\n",
       "      <td>0.296376</td>\n",
       "      <td>1.0</td>\n",
       "      <td>3</td>\n",
       "    </tr>\n",
       "    <tr>\n",
       "      <th>543503</th>\n",
       "      <td>20180301</td>\n",
       "      <td>000009</td>\n",
       "      <td>6.16</td>\n",
       "      <td>5.99</td>\n",
       "      <td>5.97</td>\n",
       "      <td>6.09</td>\n",
       "      <td>197971.34</td>\n",
       "      <td>6.0808</td>\n",
       "      <td>120382.168</td>\n",
       "      <td>-0.008264</td>\n",
       "      <td>...</td>\n",
       "      <td>0.467387</td>\n",
       "      <td>0.258142</td>\n",
       "      <td>0.403388</td>\n",
       "      <td>-0.346549</td>\n",
       "      <td>-0.516037</td>\n",
       "      <td>0.898998</td>\n",
       "      <td>-0.929080</td>\n",
       "      <td>-0.205721</td>\n",
       "      <td>-1.0</td>\n",
       "      <td>1</td>\n",
       "    </tr>\n",
       "    <tr>\n",
       "      <th>543504</th>\n",
       "      <td>20180301</td>\n",
       "      <td>000010</td>\n",
       "      <td>4.47</td>\n",
       "      <td>4.34</td>\n",
       "      <td>4.33</td>\n",
       "      <td>4.44</td>\n",
       "      <td>86662.45</td>\n",
       "      <td>4.4220</td>\n",
       "      <td>38321.821</td>\n",
       "      <td>0.065760</td>\n",
       "      <td>...</td>\n",
       "      <td>1.456599</td>\n",
       "      <td>-0.836180</td>\n",
       "      <td>-0.864865</td>\n",
       "      <td>1.373935</td>\n",
       "      <td>0.584343</td>\n",
       "      <td>-0.088120</td>\n",
       "      <td>0.729471</td>\n",
       "      <td>-0.660001</td>\n",
       "      <td>1.0</td>\n",
       "      <td>4</td>\n",
       "    </tr>\n",
       "    <tr>\n",
       "      <th>543505</th>\n",
       "      <td>20180301</td>\n",
       "      <td>000011</td>\n",
       "      <td>15.60</td>\n",
       "      <td>15.50</td>\n",
       "      <td>15.32</td>\n",
       "      <td>15.51</td>\n",
       "      <td>22884.68</td>\n",
       "      <td>15.5046</td>\n",
       "      <td>35481.707</td>\n",
       "      <td>0.019481</td>\n",
       "      <td>...</td>\n",
       "      <td>0.526226</td>\n",
       "      <td>-0.438119</td>\n",
       "      <td>-0.559121</td>\n",
       "      <td>-0.146027</td>\n",
       "      <td>1.029408</td>\n",
       "      <td>0.395054</td>\n",
       "      <td>-0.043065</td>\n",
       "      <td>-1.036369</td>\n",
       "      <td>1.0</td>\n",
       "      <td>4</td>\n",
       "    </tr>\n",
       "    <tr>\n",
       "      <th>543506</th>\n",
       "      <td>20180301</td>\n",
       "      <td>000012</td>\n",
       "      <td>8.06</td>\n",
       "      <td>7.99</td>\n",
       "      <td>7.95</td>\n",
       "      <td>8.00</td>\n",
       "      <td>124188.10</td>\n",
       "      <td>8.0024</td>\n",
       "      <td>99380.379</td>\n",
       "      <td>-0.003769</td>\n",
       "      <td>...</td>\n",
       "      <td>0.649684</td>\n",
       "      <td>-0.829231</td>\n",
       "      <td>-0.385150</td>\n",
       "      <td>-0.364589</td>\n",
       "      <td>0.992934</td>\n",
       "      <td>0.021693</td>\n",
       "      <td>0.602653</td>\n",
       "      <td>-0.472876</td>\n",
       "      <td>-1.0</td>\n",
       "      <td>2</td>\n",
       "    </tr>\n",
       "    <tr>\n",
       "      <th>543507</th>\n",
       "      <td>20180301</td>\n",
       "      <td>000014</td>\n",
       "      <td>10.60</td>\n",
       "      <td>10.60</td>\n",
       "      <td>10.40</td>\n",
       "      <td>10.50</td>\n",
       "      <td>29176.02</td>\n",
       "      <td>10.4885</td>\n",
       "      <td>30601.170</td>\n",
       "      <td>-0.000944</td>\n",
       "      <td>...</td>\n",
       "      <td>2.039559</td>\n",
       "      <td>-1.851373</td>\n",
       "      <td>-1.867630</td>\n",
       "      <td>1.475570</td>\n",
       "      <td>1.291015</td>\n",
       "      <td>0.845761</td>\n",
       "      <td>2.276548</td>\n",
       "      <td>-1.531735</td>\n",
       "      <td>-1.0</td>\n",
       "      <td>2</td>\n",
       "    </tr>\n",
       "  </tbody>\n",
       "</table>\n",
       "<p>10 rows × 56 columns</p>\n",
       "</div>"
      ],
      "text/plain": [
       "            date  ticker   high  open_    low  close_     volume     vwap   \n",
       "543498  20180301  000001  12.15  11.92  11.90   12.04  886957.18  12.0564  \\\n",
       "543499  20180301  000002  33.09  32.17  32.02   32.41  336064.32  32.5038   \n",
       "543500  20180301  000004  20.98  20.55  20.30   20.79    4877.65  20.8032   \n",
       "543501  20180301  000005   3.84   3.80   3.78    3.83   24567.65   3.8207   \n",
       "543502  20180301  000008   7.58   7.54   7.49    7.52  113348.78   7.5252   \n",
       "543503  20180301  000009   6.16   5.99   5.97    6.09  197971.34   6.0808   \n",
       "543504  20180301  000010   4.47   4.34   4.33    4.44   86662.45   4.4220   \n",
       "543505  20180301  000011  15.60  15.50  15.32   15.51   22884.68  15.5046   \n",
       "543506  20180301  000012   8.06   7.99   7.95    8.00  124188.10   8.0024   \n",
       "543507  20180301  000014  10.60  10.60  10.40   10.50   29176.02  10.4885   \n",
       "\n",
       "              value       ret  ...   alpha60   alpha61   alpha62   alpha63   \n",
       "543498  1069354.491  0.000839  ... -0.585974  1.349535  1.348013 -0.193306  \\\n",
       "543499  1092337.514  0.015313  ... -1.056775  2.093428  1.952969 -0.731041   \n",
       "543500    10147.098  0.020163  ...  0.977481 -1.310026 -1.857542  0.703936   \n",
       "543501     9386.441  0.005236  ...  1.482977 -0.998580 -0.748776 -0.060791   \n",
       "543502    85297.795  0.010638  ... -0.500777  0.937980  0.745381 -1.177845   \n",
       "543503   120382.168 -0.008264  ...  0.467387  0.258142  0.403388 -0.346549   \n",
       "543504    38321.821  0.065760  ...  1.456599 -0.836180 -0.864865  1.373935   \n",
       "543505    35481.707  0.019481  ...  0.526226 -0.438119 -0.559121 -0.146027   \n",
       "543506    99380.379 -0.003769  ...  0.649684 -0.829231 -0.385150 -0.364589   \n",
       "543507    30601.170 -0.000944  ...  2.039559 -1.851373 -1.867630  1.475570   \n",
       "\n",
       "         alpha64   alpha65   alpha67   alpha68  return_bin  return_mul  \n",
       "543498 -0.305559 -0.539502 -0.824170  1.515700        -1.0           2  \n",
       "543499 -0.311756 -0.586503 -0.530224  2.449666         1.0           4  \n",
       "543500  1.314979  0.229161  0.678537 -1.451191         1.0           4  \n",
       "543501  0.617939 -0.876743  2.244473 -1.050600         1.0           3  \n",
       "543502  0.404036  1.033795  0.877007  0.296376         1.0           3  \n",
       "543503 -0.516037  0.898998 -0.929080 -0.205721        -1.0           1  \n",
       "543504  0.584343 -0.088120  0.729471 -0.660001         1.0           4  \n",
       "543505  1.029408  0.395054 -0.043065 -1.036369         1.0           4  \n",
       "543506  0.992934  0.021693  0.602653 -0.472876        -1.0           2  \n",
       "543507  1.291015  0.845761  2.276548 -1.531735        -1.0           2  \n",
       "\n",
       "[10 rows x 56 columns]"
      ]
     },
     "execution_count": 43,
     "metadata": {},
     "output_type": "execute_result"
    }
   ],
   "source": [
    "df_feature[dates_iloc[12]:].head(10)"
   ]
  },
  {
   "cell_type": "code",
   "execution_count": 137,
   "metadata": {},
   "outputs": [],
   "source": [
    "def Train_Test(method, _type):\n",
    "    w = np.zeros(len(alpha_list)) if _type == 'bin' else np.zeros(len(alpha_list) * 5)\n",
    "    result_list = []\n",
    "    for end_month in range(12,49):\n",
    "        train_set = df_feature[dates_iloc[end_month-12]:dates_iloc[end_month]]\n",
    "        train_set_x = train_set[alpha_list].values\n",
    "        train_set_y = train_set['return_'+_type].values\n",
    "        test_set = df_feature[dates_iloc[end_month]:dates_iloc[end_month+1]]\n",
    "        test_set_x = test_set[alpha_list].values\n",
    "        test_set_y = test_set['return_'+_type].values\n",
    "        test_set_r = test_set['ret'].values\n",
    "\n",
    "        if method == 'GD':\n",
    "            w = GD(train_set_x, train_set_y, w, _type)\n",
    "        elif method == 'MBGD':\n",
    "            w = MBGD(train_set_x, train_set_y, w, _type)\n",
    "        elif method == 'SGDM':\n",
    "            w = SGDM(train_set_x, train_set_y, w, _type)\n",
    "        elif method == 'NAG':\n",
    "            w = NAG(train_set_x, train_set_y, w, _type)\n",
    "        elif method == 'AdaGrad':\n",
    "            w = AdaGrad(train_set_x, train_set_y, w, _type)\n",
    "        elif method == 'Adam':\n",
    "            w = Adam(train_set_x, train_set_y, w, _type)\n",
    "        elif method == 'ONS':\n",
    "            w = ONS(train_set_x, train_set_y, w, _type)\n",
    "\n",
    "        if _type == 'bin':\n",
    "            pred = np.sign(test_set_x.dot(w))\n",
    "            A = np.sum(pred + test_set_y > 0)\n",
    "            B = np.sum(pred - test_set_y > 0)\n",
    "            result_list.append(A / (A + B))\n",
    "        else:\n",
    "            pred_matrix = test_set_x.dot(w.reshape(len(alpha_list),5).T)\n",
    "            pred = np.argmax(pred_matrix, axis=1)\n",
    "            rho = np.cov(pred, test_set_r)[0,1] / np.std(pred) / np.std(test_set_r)\n",
    "            result_list.append(rho)\n",
    "            FR = np.cov(pred, test_set_r)[0,1] / np.std(pred)\n",
    "            result_list.append(FR)\n",
    "    if _type == 'bin':\n",
    "        return np.array(result_list)\n",
    "    else:\n",
    "        return np.array(result_list).reshape(-1,2).T"
   ]
  },
  {
   "cell_type": "code",
   "execution_count": null,
   "metadata": {},
   "outputs": [],
   "source": []
  },
  {
   "cell_type": "markdown",
   "metadata": {},
   "source": [
    "# Appendix"
   ]
  },
  {
   "cell_type": "code",
   "execution_count": 5,
   "metadata": {},
   "outputs": [],
   "source": [
    "def l_bin(x, y, w):\n",
    "    z = np.dot(x, w)\n",
    "    return np.log(1+np.exp(-y*z))\n",
    "\n",
    "def l_bin_grad(x, y, w):\n",
    "    z = np.dot(x, w)\n",
    "    g = np.dot(-y * np.exp(-y*z) / (1+np.exp(-y*z)), x) / x.shape[0]\n",
    "    return g\n",
    "\n",
    "# def l_mul(x, y, w):\n",
    "#     z = [np.dot(x, w[i*44:(i+1)*44]) for i in range(5)]\n",
    "#     return np.log(np.sum(np.exp(z))) - z[y]\n",
    "\n",
    "# def l_mul_grad(x, y, w):\n",
    "#     z = [np.dot(x, w[i*44:(i+1)*44]) for i in range(5)]\n",
    "#     ez = np.sum(np.exp(z))\n",
    "#     g = np.zeros((5, 44))\n",
    "#     for i in range(5):\n",
    "#         g[i] = np.exp(z[i]) / ez * x\n",
    "#     g[y] -= x\n",
    "    \n",
    "#     return g\n",
    "# l_mul(train_set_x, train_set_y, w)\n",
    "def l_mul(x, y, w):\n",
    "    z = np.array([np.dot(x, w[i*44:(i+1)*44]) for i in range(5)])\n",
    "    return np.log(np.exp(z).sum(axis=0)) - z[y, np.arange(z.shape[1])]\n",
    "\n",
    "def l_mul_grad(x, y, w):\n",
    "    z = np.array([np.dot(x, w[i*44:(i+1)*44]) for i in range(5)])\n",
    "    ez = np.exp(z).sum(axis=0)\n",
    "    g = np.dot((np.exp(z) / ez), x)\n",
    "    for i in range(5):\n",
    "        g[i] -= x[y==i].sum(axis=0)\n",
    "    return g.reshape(-1)"
   ]
  },
  {
   "cell_type": "code",
   "execution_count": 67,
   "metadata": {},
   "outputs": [],
   "source": [
    "def Gradient_Descent(df_feature, learning_rate, type='bin'):\n",
    "    def cal_lg(x, y, w, type):\n",
    "        if type == 'bin':\n",
    "            return l_bin(x, y, w), l_bin_grad(x, y, w)\n",
    "        else:\n",
    "            return l_mul(x, y, w), l_mul_grad(x, y, w)\n",
    "    w = np.zeros(44) if type == 'bin' else np.zeros((1, 44*5))\n",
    "    # w_list = []\n",
    "    g_list = []\n",
    "    l_list = []\n",
    "    predict_list = []\n",
    "    train_set_x = df_feature.iloc[:dates_iloc[0], :].loc[:, alpha_list].values\n",
    "    train_set_y = df_feature.iloc[:dates_iloc[0], :].loc[:, 'return_'+type].values\n",
    "    for _ in range(3):\n",
    "        for data_x, data_y in zip(train_set_x, train_set_y):\n",
    "            l, g = cal_lg(w, data_x, data_y, type)\n",
    "            w = w - learning_rate * g\n",
    "            if np.linalg.norm(w) > 10:\n",
    "                w = w / np.linalg.norm(g) * 10\n",
    "            # w_list.append(w)\n",
    "            g_list.append(g)\n",
    "            l_list.append(l)\n",
    "        print(_, end=' ')\n",
    "    return g_list, l_list\n",
    "    for month in range(15):\n",
    "        print('begin month', month)\n",
    "        test_set_x = df_feature.iloc[dates_iloc[month]:dates_iloc[month+1], :].loc[:, alpha_list].values\n",
    "        test_set_y = df_feature.iloc[dates_iloc[month]:dates_iloc[month+1], :].loc[:, 'return_'+type].values\n",
    "        \n",
    "        for data_x, data_y in zip(test_set_x, test_set_y):\n",
    "            if type == 'bin':\n",
    "                hat_z = np.dot(w, data_x)\n",
    "                pred = 1 if hat_z > 0 else -1\n",
    "            elif type == 'multi':\n",
    "                hat_z = [np.dot(w[0, i*44:(i+1)*44], data_x) for i in range(5)]\n",
    "                pred = np.argmax(hat_z)+1\n",
    "            predict_list.append(pred)\n",
    "        \n",
    "        train_set_x = test_set_x\n",
    "        train_set_y = test_set_y\n",
    "        for data_x, data_y in zip(train_set_x, train_set_y):\n",
    "            for _ in range(10):\n",
    "                w, g, l = Gradient_Descent_update(w, data_x, data_y, learning_rate, type)\n",
    "                w_list.append(w)\n",
    "                g_list.append(g)\n",
    "                l_list.append(l)\n",
    "        \n",
    "    \n",
    "    return w_list, g_list, l_list, predict_list\n",
    "    "
   ]
  },
  {
   "cell_type": "code",
   "execution_count": 7,
   "metadata": {},
   "outputs": [
    {
     "name": "stdout",
     "output_type": "stream",
     "text": [
      "0 1 2 3 4 5 6 7 8 9 10 11 12 13 14 15 16 17 18 19 20 21 22 23 24 25 26 27 28 29 30 31 32 33 34 35 36 37 38 39 40 41 42 43 44 45 46 47 48 49 50 51 52 53 54 55 56 57 58 59 60 61 62 63 64 65 66 67 68 69 70 71 72 73 74 75 76 77 78 79 80 81 82 83 84 85 86 87 88 89 90 91 92 93 94 95 96 97 98 99 "
     ]
    }
   ],
   "source": [
    "def cal_lg(x, y, w, type):\n",
    "    if type == 'bin':\n",
    "        return l_bin(x, y, w), l_bin_grad(x, y, w)\n",
    "    elif type == 'mul':\n",
    "        return l_mul(x, y, w), l_mul_grad(x, y, w)\n",
    "    return \n",
    "w = np.zeros(44) #if type == 'bin' else np.zeros((1, 44*5))\n",
    "# w_list = []\n",
    "g_list = []\n",
    "l_list = []\n",
    "predict_list = []\n",
    "train_set_x = df_feature.iloc[:dates_iloc[0], :].loc[:, alpha_list].values\n",
    "train_set_y = df_feature.iloc[:dates_iloc[0], :].loc[:, 'return_bin'].values\n",
    "for _ in range(100):\n",
    "    for data_x, data_y in zip(train_set_x, train_set_y):\n",
    "        l, g = cal_lg(data_x, data_y, w, 'bin')\n",
    "        w = w - 1e-6 * g\n",
    "        if np.linalg.norm(w) > 10:\n",
    "            w = w / np.linalg.norm(w) * 10\n",
    "        # w_list.append(w)\n",
    "        g_list.append(g)\n",
    "        l_list.append(l)\n",
    "    print(_, end=' ')"
   ]
  },
  {
   "cell_type": "code",
   "execution_count": 8,
   "metadata": {},
   "outputs": [
    {
     "data": {
      "text/plain": [
       "543498"
      ]
     },
     "execution_count": 8,
     "metadata": {},
     "output_type": "execute_result"
    }
   ],
   "source": [
    "len(train_set_y)"
   ]
  },
  {
   "cell_type": "code",
   "execution_count": 11,
   "metadata": {},
   "outputs": [
    {
     "data": {
      "text/plain": [
       "[<matplotlib.lines.Line2D at 0x7fb736f366d0>]"
      ]
     },
     "execution_count": 11,
     "metadata": {},
     "output_type": "execute_result"
    },
    {
     "data": {
      "image/png": "[encoded data removed]",
      "text/plain": [
       "<Figure size 432x288 with 1 Axes>"
      ]
     },
     "metadata": {
      "needs_background": "light"
     },
     "output_type": "display_data"
    }
   ],
   "source": [
    "plt.plot(np.array(l_list)[:543498*100].reshape(543498, -1).sum(axis=0))"
   ]
  },
  {
   "cell_type": "code",
   "execution_count": 21,
   "metadata": {},
   "outputs": [],
   "source": [
    "norm_g_list = [np.linalg.norm(i) for i in g_list]"
   ]
  },
  {
   "cell_type": "code",
   "execution_count": 22,
   "metadata": {},
   "outputs": [
    {
     "data": {
      "text/plain": [
       "[<matplotlib.lines.Line2D at 0x7fb2ff65ed30>]"
      ]
     },
     "execution_count": 22,
     "metadata": {},
     "output_type": "execute_result"
    },
    {
     "data": {
      "image/png": "[encoded data removed]",
      "text/plain": [
       "<Figure size 432x288 with 1 Axes>"
      ]
     },
     "metadata": {
      "needs_background": "light"
     },
     "output_type": "display_data"
    }
   ],
   "source": [
    "plt.plot(np.array(norm_g_list)[:543498*100].reshape(543498, -1).sum(axis=0))"
   ]
  },
  {
   "cell_type": "code",
   "execution_count": 30,
   "metadata": {},
   "outputs": [
    {
     "data": {
      "text/plain": [
       "0.11238866936307283"
      ]
     },
     "execution_count": 30,
     "metadata": {},
     "output_type": "execute_result"
    }
   ],
   "source": [
    "np.linalg.norm(g_list[0])"
   ]
  },
  {
   "cell_type": "code",
   "execution_count": 35,
   "metadata": {},
   "outputs": [
    {
     "data": {
      "text/plain": [
       "0.08803943868131693"
      ]
     },
     "execution_count": 35,
     "metadata": {},
     "output_type": "execute_result"
    }
   ],
   "source": [
    "np.linalg.norm(g_list[-5])"
   ]
  },
  {
   "cell_type": "code",
   "execution_count": 28,
   "metadata": {},
   "outputs": [
    {
     "data": {
      "text/plain": [
       "array([ 3.12074446e-02,  2.75784961e-02,  9.13611867e-04,  1.62006819e-02,\n",
       "        3.53739729e-02, -2.71986666e-02, -3.98560072e-02, -5.88729720e-03,\n",
       "        1.15584021e-02, -1.53209933e-03,  6.86104095e-03,  1.12362124e-03,\n",
       "        2.61413336e-02,  2.50737767e-02,  1.25287726e-03,  1.76610292e-02,\n",
       "        3.43410986e-03, -7.90527120e-03, -7.95252902e-03, -1.91782795e-02,\n",
       "        1.63282699e-02, -6.63949070e-03,  4.23807029e-03, -1.73853034e-02,\n",
       "        1.92390106e-02,  1.84190497e-02,  3.13886222e-02, -4.39638328e-07,\n",
       "        2.36212029e-02,  3.05957259e-03,  4.17997914e-03,  1.62263892e-02,\n",
       "        1.55888402e-02,  2.50522684e-02, -8.42567024e-03,  2.93723357e-03,\n",
       "       -7.61433492e-03,  1.63340873e-02,  1.71850776e-02, -9.78127121e-03,\n",
       "        6.69140840e-03, -7.84148530e-03,  4.60988154e-03,  1.21904686e-02])"
      ]
     },
     "execution_count": 28,
     "metadata": {},
     "output_type": "execute_result"
    }
   ],
   "source": [
    "g_list[-3]"
   ]
  },
  {
   "cell_type": "code",
   "execution_count": null,
   "metadata": {},
   "outputs": [],
   "source": [
    "l_mul()"
   ]
  },
  {
   "cell_type": "code",
   "execution_count": null,
   "metadata": {},
   "outputs": [],
   "source": []
  },
  {
   "cell_type": "code",
   "execution_count": null,
   "metadata": {},
   "outputs": [],
   "source": []
  },
  {
   "cell_type": "code",
   "execution_count": 41,
   "metadata": {},
   "outputs": [],
   "source": [
    "train_set_x = df_feature.iloc[:dates_iloc[0], :].loc[:, alpha_list].values\n",
    "train_set_y = df_feature.iloc[:dates_iloc[0], :].loc[:, 'return_mul'].values"
   ]
  },
  {
   "cell_type": "code",
   "execution_count": 43,
   "metadata": {},
   "outputs": [
    {
     "data": {
      "text/plain": [
       "(1828764,)"
      ]
     },
     "execution_count": 43,
     "metadata": {},
     "output_type": "execute_result"
    }
   ],
   "source": [
    "l_mul(train_set_x, train_set_y, w)"
   ]
  },
  {
   "cell_type": "code",
   "execution_count": 28,
   "metadata": {},
   "outputs": [],
   "source": [
    "tx = train_set_x[:100]\n",
    "ty = train_set_y[:100]\n",
    "w = np.zeros(44*5)\n",
    "z = np.array([np.dot(tx, w[i*44:(i+1)*44]) for i in range(5)])\n",
    "zy = z[ty, np.arange(z.shape[1])]"
   ]
  },
  {
   "cell_type": "code",
   "execution_count": 34,
   "metadata": {},
   "outputs": [
    {
     "data": {
      "text/plain": [
       "(100,)"
      ]
     },
     "execution_count": 34,
     "metadata": {},
     "output_type": "execute_result"
    }
   ],
   "source": [
    "np.log(np.exp(z).sum(axis=0)).shape"
   ]
  },
  {
   "cell_type": "code",
   "execution_count": 9,
   "metadata": {},
   "outputs": [
    {
     "data": {
      "text/plain": [
       "((100, 44), (100,), (5, 100))"
      ]
     },
     "execution_count": 9,
     "metadata": {},
     "output_type": "execute_result"
    }
   ],
   "source": [
    "tx.shape, ty.shape, z.shape"
   ]
  },
  {
   "cell_type": "code",
   "execution_count": 11,
   "metadata": {},
   "outputs": [],
   "source": [
    "data = np.random.rand(2,3)"
   ]
  },
  {
   "cell_type": "code",
   "execution_count": 24,
   "metadata": {},
   "outputs": [
    {
     "name": "stdout",
     "output_type": "stream",
     "text": [
      "[1 5 6]\n"
     ]
    }
   ],
   "source": [
    "import numpy as np\n",
    "\n",
    "arr = np.array([[1,2,3], [4,5,6]])\n",
    "y = [0, 1, 1]\n",
    "result = arr[y,np.arange(arr.shape[1])]\n",
    "print(result)\n"
   ]
  },
  {
   "cell_type": "code",
   "execution_count": 26,
   "metadata": {},
   "outputs": [
    {
     "data": {
      "text/plain": [
       "(5, 100)"
      ]
     },
     "execution_count": 26,
     "metadata": {},
     "output_type": "execute_result"
    }
   ],
   "source": [
    "z.shape"
   ]
  },
  {
   "cell_type": "code",
   "execution_count": 38,
   "metadata": {},
   "outputs": [
    {
     "data": {
      "text/plain": [
       "array([3, 1, 4, ..., 3, 1, 4])"
      ]
     },
     "execution_count": 38,
     "metadata": {},
     "output_type": "execute_result"
    }
   ],
   "source": [
    "ty"
   ]
  },
  {
   "cell_type": "code",
   "execution_count": 30,
   "metadata": {},
   "outputs": [],
   "source": [
    "import numpy as np\n",
    "\n",
    "z = [np.random.rand(44) for _ in range(5)]\n",
    "z_arr = np.array(z)  # 转换为 numpy 数组，形状为 (5, 44)\n",
    "\n",
    "y = np.random.randint(0, 5, size=100)  # 随机生成一个长度为 100，取值在 [0, 5) 之间的一维数组\n",
    "\n",
    "result = np.take(z_arr.T, y, axis=0).T  # 沿着第二个维度进行索引，并将维度反转\n"
   ]
  },
  {
   "cell_type": "code",
   "execution_count": 34,
   "metadata": {},
   "outputs": [
    {
     "data": {
      "text/plain": [
       "(5, 44)"
      ]
     },
     "execution_count": 34,
     "metadata": {},
     "output_type": "execute_result"
    }
   ],
   "source": [
    "z_arr.shape"
   ]
  },
  {
   "cell_type": "code",
   "execution_count": null,
   "metadata": {},
   "outputs": [],
   "source": []
  },
  {
   "cell_type": "code",
   "execution_count": 60,
   "metadata": {},
   "outputs": [],
   "source": [
    "def Gradient_Descent_update(w, data_x, data_y, learning_rate, type='bin'):\n",
    "    if type == 'bin':\n",
    "        l = l_bin(data_x, data_y, w)\n",
    "        g = l_bin_grad(data_x, data_y, w)\n",
    "\n",
    "    elif type == 'multi':\n",
    "        l = l_multi(data_x, data_y, w)\n",
    "        g = l_multi_grad(data_x, data_y, w)\n",
    "    else:\n",
    "        raise ValueError('type must be bin or multi')\n",
    "    w -= learning_rate * g\n",
    "    if np.linalg.norm(w) > 1:\n",
    "        w = w / np.linalg.norm(w)\n",
    "    return w, g, l\n",
    "\n",
    "def Gradient_Descent(df_feature, learning_rate, type='bin'):\n",
    "    # T = data_x.shape\n",
    "    # w, g, l = Gradient_Descent_update(w, data_x, data_y, learning_rate, type)\n",
    "    # return w, g, l\n",
    "    w = np.zeros(44) if type == 'bin' else np.zeros((1, 44*5))\n",
    "    w_list = []\n",
    "    g_list = []\n",
    "    l_list = []\n",
    "    predict_list = []\n",
    "    train_set_x = df_feature.iloc[:dates_iloc[0], :].loc[:, alpha_list].values\n",
    "    train_set_y = df_feature.iloc[:dates_iloc[0], :].loc[:, 'return_'+type].values\n",
    "    for data_x, data_y in zip(train_set_x, train_set_y):\n",
    "        for _ in range(10):\n",
    "            w, g, l = Gradient_Descent_update(w, data_x, data_y, learning_rate, type)\n",
    "            w_list.append(w)\n",
    "            g_list.append(g)\n",
    "            l_list.append(l)\n",
    "    for month in range(15):\n",
    "        print('begin month', month)\n",
    "        test_set_x = df_feature.iloc[dates_iloc[month]:dates_iloc[month+1], :].loc[:, alpha_list].values\n",
    "        test_set_y = df_feature.iloc[dates_iloc[month]:dates_iloc[month+1], :].loc[:, 'return_'+type].values\n",
    "        \n",
    "        for data_x, data_y in zip(test_set_x, test_set_y):\n",
    "            if type == 'bin':\n",
    "                hat_z = np.dot(w, data_x)\n",
    "                pred = 1 if hat_z > 0 else -1\n",
    "            elif type == 'multi':\n",
    "                hat_z = [np.dot(w[0, i*44:(i+1)*44], data_x) for i in range(5)]\n",
    "                pred = np.argmax(hat_z)+1\n",
    "            predict_list.append(pred)\n",
    "        \n",
    "        train_set_x = test_set_x\n",
    "        train_set_y = test_set_y\n",
    "        for data_x, data_y in zip(train_set_x, train_set_y):\n",
    "            for _ in range(10):\n",
    "                w, g, l = Gradient_Descent_update(w, data_x, data_y, learning_rate, type)\n",
    "                w_list.append(w)\n",
    "                g_list.append(g)\n",
    "                l_list.append(l)\n",
    "        \n",
    "    \n",
    "    return w_list, g_list, l_list, predict_list\n",
    "    "
   ]
  },
  {
   "cell_type": "code",
   "execution_count": 61,
   "metadata": {},
   "outputs": [
    {
     "name": "stdout",
     "output_type": "stream",
     "text": [
      "begin month 0\n",
      "begin month 1\n",
      "begin month 2\n",
      "begin month 3\n",
      "begin month 4\n",
      "begin month 5\n",
      "begin month 6\n",
      "begin month 7\n",
      "begin month 8\n",
      "begin month 9\n",
      "begin month 10\n",
      "begin month 11\n",
      "begin month 12\n",
      "begin month 13\n",
      "begin month 14\n"
     ]
    }
   ],
   "source": [
    "wl, gl, ll, pl = Gradient_Descent(df_feature, 1e-3, type='bin')"
   ]
  },
  {
   "cell_type": "code",
   "execution_count": 54,
   "metadata": {},
   "outputs": [
    {
     "name": "stdout",
     "output_type": "stream",
     "text": [
      "fp: 315142 fn: 151948 tp: 257935 tn: 157562\n"
     ]
    }
   ],
   "source": [
    "# GD no iteration, 1e-3\n",
    "fp, fn, tp, tn = 0, 0, 0, 0\n",
    "for i in range(len(pl)):\n",
    "    if pl[i] == 1 and bin_y[i] == 1:\n",
    "        tp += 1\n",
    "    elif pl[i] == 1 and bin_y[i] == -1:\n",
    "        fp += 1\n",
    "    elif pl[i] == -1 and bin_y[i] == 1:\n",
    "        fn += 1\n",
    "    elif pl[i] == -1 and bin_y[i] == -1:\n",
    "        tn += 1\n",
    "print('fp:',fp, 'fn:',fn, 'tp:',tp, 'tn:',tn)"
   ]
  },
  {
   "cell_type": "code",
   "execution_count": 55,
   "metadata": {},
   "outputs": [
    {
     "data": {
      "text/plain": [
       "[<matplotlib.lines.Line2D at 0x7fa5e953f760>]"
      ]
     },
     "execution_count": 55,
     "metadata": {},
     "output_type": "execute_result"
    },
    {
     "data": {
      "image/png": "[encoded data removed]",
      "text/plain": [
       "<Figure size 432x288 with 1 Axes>"
      ]
     },
     "metadata": {
      "needs_background": "light"
     },
     "output_type": "display_data"
    }
   ],
   "source": [
    "plt.plot(ll)"
   ]
  },
  {
   "cell_type": "code",
   "execution_count": 64,
   "metadata": {},
   "outputs": [],
   "source": [
    "def Mini_Batch_Gradient_Descent_update(w, data_x, data_y, learning_rate, type='bin'):\n",
    "    if type == 'bin':\n",
    "        l = l_bin(data_x, data_y, w)\n",
    "        g = l_bin_grad(data_x, data_y, w)\n",
    "\n",
    "    elif type == 'multi':\n",
    "        l = l_multi(data_x, data_y, w)\n",
    "        g = l_multi_grad(data_x, data_y, w)\n",
    "    else:\n",
    "        raise ValueError('type must be bin or multi')\n",
    "    # w -= learning_rate * g\n",
    "    # if np.linalg.norm(w) > 1:\n",
    "    #     w = w / np.linalg.norm(w)\n",
    "    return w, g, l\n",
    "\n",
    "def Mini_Batch_Gradient_Descent(df_feature, learning_rate, batch_size, type='bin'):\n",
    "    # T = data_x.shape\n",
    "    # w, g, l = Gradient_Descent_update(w, data_x, data_y, learning_rate, type)\n",
    "    # return w, g, l\n",
    "    w = np.zeros(44) if type == 'bin' else np.zeros((1, 44*5))\n",
    "    w_list = []\n",
    "    g_list = []\n",
    "    l_list = []\n",
    "    predict_list = []\n",
    "    train_set_x = df_feature.iloc[:dates_iloc[0], :].loc[:, alpha_list].values\n",
    "    train_set_y = df_feature.iloc[:dates_iloc[0], :].loc[:, 'return_'+type].values\n",
    "    B = 0\n",
    "    for data_x, data_y in zip(train_set_x, train_set_y):\n",
    "        w, g, l = Gradient_Descent_update(w, data_x, data_y, learning_rate, type)\n",
    "        w_list.append(w)\n",
    "        g_list.append(g)\n",
    "        l_list.append(l)\n",
    "        B += 1\n",
    "        if B == batch_size:\n",
    "            w -= learning_rate * np.mean(g_list[-B:], axis=0)\n",
    "            if np.linalg.norm(w) > 10:\n",
    "                w = w / np.linalg.norm(w) * 10\n",
    "            B = 0\n",
    "    for month in range(15):\n",
    "        print('begin month', month)\n",
    "        test_set_x = df_feature.iloc[dates_iloc[month]:dates_iloc[month+1], :].loc[:, alpha_list].values\n",
    "        test_set_y = df_feature.iloc[dates_iloc[month]:dates_iloc[month+1], :].loc[:, 'return_'+type].values\n",
    "        \n",
    "        for data_x, data_y in zip(test_set_x, test_set_y):\n",
    "            if type == 'bin':\n",
    "                hat_z = np.dot(w, data_x)\n",
    "                pred = 1 if hat_z > 0 else -1\n",
    "            elif type == 'multi':\n",
    "                hat_z = [np.dot(w[0, i*44:(i+1)*44], data_x) for i in range(5)]\n",
    "                pred = np.argmax(hat_z)+1\n",
    "            predict_list.append(pred)\n",
    "        \n",
    "        train_set_x = test_set_x\n",
    "        train_set_y = test_set_y\n",
    "        B = 0\n",
    "        for data_x, data_y in zip(train_set_x, train_set_y):\n",
    "            w, g, l = Gradient_Descent_update(w, data_x, data_y, learning_rate, type)\n",
    "            w_list.append(w)\n",
    "            g_list.append(g)\n",
    "            l_list.append(l)\n",
    "            B += 1\n",
    "            if B == batch_size:\n",
    "                w -= learning_rate * np.mean(g_list[-B:], axis=0)\n",
    "                if np.linalg.norm(w) > 10:\n",
    "                    w = w / np.linalg.norm(w) * 10\n",
    "                B = 0\n",
    "        \n",
    "    \n",
    "    return w_list, g_list, l_list, predict_list\n",
    "    "
   ]
  },
  {
   "cell_type": "code",
   "execution_count": 67,
   "metadata": {},
   "outputs": [
    {
     "name": "stdout",
     "output_type": "stream",
     "text": [
      "begin month 0\n",
      "begin month 1\n",
      "begin month 2\n",
      "begin month 3\n",
      "begin month 4\n",
      "begin month 5\n",
      "begin month 6\n",
      "begin month 7\n",
      "begin month 8\n",
      "begin month 9\n",
      "begin month 10\n",
      "begin month 11\n",
      "begin month 12\n",
      "begin month 13\n",
      "begin month 14\n"
     ]
    }
   ],
   "source": [
    "wl, gl, ll, pl = Mini_Batch_Gradient_Descent(df_feature, 1e-2, 128, type='bin')"
   ]
  },
  {
   "cell_type": "code",
   "execution_count": 68,
   "metadata": {},
   "outputs": [
    {
     "name": "stdout",
     "output_type": "stream",
     "text": [
      "fp: 326526 fn: 143094 tp: 266789 tn: 146178\n"
     ]
    }
   ],
   "source": [
    "# MBGD no iteration, 1e-2, 64\n",
    "fp, fn, tp, tn = 0, 0, 0, 0\n",
    "for i in range(len(pl)):\n",
    "    if pl[i] == 1 and bin_y[i] == 1:\n",
    "        tp += 1\n",
    "    elif pl[i] == 1 and bin_y[i] == -1:\n",
    "        fp += 1\n",
    "    elif pl[i] == -1 and bin_y[i] == 1:\n",
    "        fn += 1\n",
    "    elif pl[i] == -1 and bin_y[i] == -1:\n",
    "        tn += 1\n",
    "print('fp:',fp, 'fn:',fn, 'tp:',tp, 'tn:',tn)"
   ]
  },
  {
   "cell_type": "code",
   "execution_count": 69,
   "metadata": {},
   "outputs": [
    {
     "data": {
      "text/plain": [
       "[<matplotlib.lines.Line2D at 0x7fa5ad09f5e0>]"
      ]
     },
     "execution_count": 69,
     "metadata": {},
     "output_type": "execute_result"
    },
    {
     "data": {
      "image/png": "[encoded data removed]",
      "text/plain": [
       "<Figure size 432x288 with 1 Axes>"
      ]
     },
     "metadata": {
      "needs_background": "light"
     },
     "output_type": "display_data"
    }
   ],
   "source": [
    "plt.plot(ll)"
   ]
  },
  {
   "cell_type": "code",
   "execution_count": null,
   "metadata": {},
   "outputs": [],
   "source": []
  },
  {
   "cell_type": "code",
   "execution_count": 91,
   "metadata": {},
   "outputs": [],
   "source": [
    "def Stochastic_Gradient_Descent_Momentum_update(w, data_x, data_y, learning_rate, type='bin'):\n",
    "    if type == 'bin':\n",
    "        l = l_bin(data_x, data_y, w)\n",
    "        g = l_bin_grad(data_x, data_y, w)\n",
    "\n",
    "    elif type == 'multi':\n",
    "        l = l_multi(data_x, data_y, w)\n",
    "        g = l_multi_grad(data_x, data_y, w)\n",
    "    else:\n",
    "        raise ValueError('type must be bin or multi')\n",
    "    # w -= learning_rate * g\n",
    "    # if np.linalg.norm(w) > 1:\n",
    "    #     w = w / np.linalg.norm(w)\n",
    "    return w, g, l\n",
    "\n",
    "def Stochastic_Gradient_Descent_Momentum(df_feature, learning_rate, batch_size, beta, type='bin'):\n",
    "    # T = data_x.shape\n",
    "    # w, g, l = Gradient_Descent_update(w, data_x, data_y, learning_rate, type)\n",
    "    # return w, g, l\n",
    "    w = np.zeros(44) if type == 'bin' else np.zeros((1, 44*5))\n",
    "    v = np.zeros(44) if type == 'bin' else np.zeros((1, 44*5))\n",
    "    w_list = []\n",
    "    g_list = []\n",
    "    l_list = []\n",
    "    predict_list = []\n",
    "    train_set_x = df_feature.iloc[:dates_iloc[0], :].loc[:, alpha_list].values\n",
    "    train_set_y = df_feature.iloc[:dates_iloc[0], :].loc[:, 'return_'+type].values\n",
    "    B = 0\n",
    "    for data_x, data_y in zip(train_set_x, train_set_y):\n",
    "        _w, g, l = Gradient_Descent_update(w, data_x, data_y, learning_rate, type)\n",
    "        w_list.append(_w)\n",
    "        g_list.append(g)\n",
    "        l_list.append(l)\n",
    "        B += 1\n",
    "        if B == batch_size:\n",
    "            g = np.mean(g_list[-B:], axis=0)\n",
    "            v = beta * v + (1 - beta) * g\n",
    "            w = w - learning_rate * v\n",
    "            if np.linalg.norm(w) > 10:\n",
    "                w = w / np.linalg.norm(w) * 10\n",
    "            B = 0\n",
    "    for month in range(15):\n",
    "        print('begin month', month)\n",
    "        test_set_x = df_feature.iloc[dates_iloc[month]:dates_iloc[month+1], :].loc[:, alpha_list].values\n",
    "        test_set_y = df_feature.iloc[dates_iloc[month]:dates_iloc[month+1], :].loc[:, 'return_'+type].values\n",
    "        \n",
    "        for data_x, data_y in zip(test_set_x, test_set_y):\n",
    "            if type == 'bin':\n",
    "                hat_z = np.dot(w, data_x)\n",
    "                pred = 1 if hat_z > 0 else -1\n",
    "            elif type == 'multi':\n",
    "                hat_z = [np.dot(w[0, i*44:(i+1)*44], data_x) for i in range(5)]\n",
    "                pred = np.argmax(hat_z)+1\n",
    "            predict_list.append(pred)\n",
    "        \n",
    "        train_set_x = test_set_x\n",
    "        train_set_y = test_set_y\n",
    "        B = 0\n",
    "        for data_x, data_y in zip(train_set_x, train_set_y):\n",
    "            _w, g, l = Gradient_Descent_update(w, data_x, data_y, learning_rate, type)\n",
    "            w_list.append(_w)\n",
    "            g_list.append(g)\n",
    "            l_list.append(l)\n",
    "            B += 1\n",
    "            if B == batch_size:\n",
    "                g = np.mean(g_list[-B:], axis=0)\n",
    "                v = beta * v + (1 - beta) * g\n",
    "                w = w - learning_rate * v\n",
    "                if np.linalg.norm(w) > 10:\n",
    "                    w = w / np.linalg.norm(w) * 10\n",
    "                B = 0\n",
    "        \n",
    "    \n",
    "    return w_list, g_list, l_list, predict_list\n",
    "    "
   ]
  },
  {
   "cell_type": "code",
   "execution_count": 92,
   "metadata": {},
   "outputs": [
    {
     "name": "stdout",
     "output_type": "stream",
     "text": [
      "begin month 0\n",
      "begin month 1\n",
      "begin month 2\n",
      "begin month 3\n",
      "begin month 4\n",
      "begin month 5\n",
      "begin month 6\n",
      "begin month 7\n",
      "begin month 8\n",
      "begin month 9\n",
      "begin month 10\n",
      "begin month 11\n",
      "begin month 12\n",
      "begin month 13\n",
      "begin month 14\n"
     ]
    }
   ],
   "source": [
    "wl, gl, ll, pl = Stochastic_Gradient_Descent_Momentum(df_feature, 1e-2, 128, 0.5, type='bin')"
   ]
  },
  {
   "cell_type": "code",
   "execution_count": 93,
   "metadata": {},
   "outputs": [
    {
     "name": "stdout",
     "output_type": "stream",
     "text": [
      "fp: 334625 fn: 134413 tp: 275470 tn: 138079\n"
     ]
    }
   ],
   "source": [
    "# SGDM no iteration, 1e-2, 128. 0.5\n",
    "fp, fn, tp, tn = 0, 0, 0, 0\n",
    "for i in range(len(pl)):\n",
    "    if pl[i] == 1 and bin_y[i] == 1:\n",
    "        tp += 1\n",
    "    elif pl[i] == 1 and bin_y[i] == -1:\n",
    "        fp += 1\n",
    "    elif pl[i] == -1 and bin_y[i] == 1:\n",
    "        fn += 1\n",
    "    elif pl[i] == -1 and bin_y[i] == -1:\n",
    "        tn += 1\n",
    "print('fp:',fp, 'fn:',fn, 'tp:',tp, 'tn:',tn)"
   ]
  },
  {
   "cell_type": "code",
   "execution_count": 75,
   "metadata": {},
   "outputs": [
    {
     "data": {
      "text/plain": [
       "[<matplotlib.lines.Line2D at 0x7fa5e7727190>]"
      ]
     },
     "execution_count": 75,
     "metadata": {},
     "output_type": "execute_result"
    },
    {
     "data": {
      "image/png": "[encoded data removed]",
      "text/plain": [
       "<Figure size 432x288 with 1 Axes>"
      ]
     },
     "metadata": {
      "needs_background": "light"
     },
     "output_type": "display_data"
    }
   ],
   "source": [
    "plt.plot(ll)"
   ]
  },
  {
   "cell_type": "code",
   "execution_count": null,
   "metadata": {},
   "outputs": [],
   "source": []
  },
  {
   "cell_type": "code",
   "execution_count": 94,
   "metadata": {},
   "outputs": [],
   "source": [
    "def NAG(df_feature, learning_rate, batch_size, beta, type='bin'):\n",
    "    # T = data_x.shape\n",
    "    # w, g, l = Gradient_Descent_update(w, data_x, data_y, learning_rate, type)\n",
    "    # return w, g, l\n",
    "    w = np.zeros(44) if type == 'bin' else np.zeros((1, 44*5))\n",
    "    v = np.zeros(44) if type == 'bin' else np.zeros((1, 44*5))\n",
    "    w_list = []\n",
    "    g_list = []\n",
    "    l_list = []\n",
    "    predict_list = []\n",
    "    train_set_x = df_feature.iloc[:dates_iloc[0], :].loc[:, alpha_list].values\n",
    "    train_set_y = df_feature.iloc[:dates_iloc[0], :].loc[:, 'return_'+type].values\n",
    "    B = 0\n",
    "    for data_x, data_y in zip(train_set_x, train_set_y):\n",
    "        _w, g, l = Gradient_Descent_update(w-beta*v, data_x, data_y, learning_rate, type)\n",
    "        w_list.append(_w)\n",
    "        g_list.append(g)\n",
    "        l_list.append(l)\n",
    "        B += 1\n",
    "        if B == batch_size:\n",
    "            g = np.mean(g_list[-B:], axis=0)\n",
    "            v = beta * v + learning_rate * g\n",
    "            w = w -  v\n",
    "            if np.linalg.norm(w) > 10:\n",
    "                w = w / np.linalg.norm(w) * 10\n",
    "            B = 0\n",
    "    for month in range(15):\n",
    "        print('begin month', month)\n",
    "        test_set_x = df_feature.iloc[dates_iloc[month]:dates_iloc[month+1], :].loc[:, alpha_list].values\n",
    "        test_set_y = df_feature.iloc[dates_iloc[month]:dates_iloc[month+1], :].loc[:, 'return_'+type].values\n",
    "        \n",
    "        for data_x, data_y in zip(test_set_x, test_set_y):\n",
    "            if type == 'bin':\n",
    "                hat_z = np.dot(w, data_x)\n",
    "                pred = 1 if hat_z > 0 else -1\n",
    "            elif type == 'multi':\n",
    "                hat_z = [np.dot(w[0, i*44:(i+1)*44], data_x) for i in range(5)]\n",
    "                pred = np.argmax(hat_z)+1\n",
    "            predict_list.append(pred)\n",
    "        \n",
    "        train_set_x = test_set_x\n",
    "        train_set_y = test_set_y\n",
    "        B = 0\n",
    "        for data_x, data_y in zip(train_set_x, train_set_y):\n",
    "            _w, g, l = Gradient_Descent_update(w-beta*v, data_x, data_y, learning_rate, type)\n",
    "            w_list.append(_w)\n",
    "            g_list.append(g)\n",
    "            l_list.append(l)\n",
    "            B += 1\n",
    "            if B == batch_size:\n",
    "                g = np.mean(g_list[-B:], axis=0)\n",
    "                v = beta * v + learning_rate * g\n",
    "                w = w -  v\n",
    "                if np.linalg.norm(w) > 10:\n",
    "                    w = w / np.linalg.norm(w) * 10\n",
    "                B = 0\n",
    "        \n",
    "    \n",
    "    return w_list, g_list, l_list, predict_list\n",
    "    "
   ]
  },
  {
   "cell_type": "code",
   "execution_count": 95,
   "metadata": {},
   "outputs": [
    {
     "name": "stdout",
     "output_type": "stream",
     "text": [
      "begin month 0\n",
      "begin month 1\n",
      "begin month 2\n",
      "begin month 3\n",
      "begin month 4\n",
      "begin month 5\n",
      "begin month 6\n",
      "begin month 7\n",
      "begin month 8\n",
      "begin month 9\n",
      "begin month 10\n",
      "begin month 11\n",
      "begin month 12\n",
      "begin month 13\n",
      "begin month 14\n"
     ]
    }
   ],
   "source": [
    "wl, gl, ll, pl = NAG(df_feature, 1e-2, 128, 0.5, type='bin')"
   ]
  },
  {
   "cell_type": "code",
   "execution_count": 96,
   "metadata": {},
   "outputs": [
    {
     "name": "stdout",
     "output_type": "stream",
     "text": [
      "fp: 267810 fn: 191100 tp: 218783 tn: 204894\n"
     ]
    }
   ],
   "source": [
    "# NAG no iteration, 1e-2, 128. 0.5\n",
    "fp, fn, tp, tn = 0, 0, 0, 0\n",
    "for i in range(len(pl)):\n",
    "    if pl[i] == 1 and bin_y[i] == 1:\n",
    "        tp += 1\n",
    "    elif pl[i] == 1 and bin_y[i] == -1:\n",
    "        fp += 1\n",
    "    elif pl[i] == -1 and bin_y[i] == 1:\n",
    "        fn += 1\n",
    "    elif pl[i] == -1 and bin_y[i] == -1:\n",
    "        tn += 1\n",
    "print('fp:',fp, 'fn:',fn, 'tp:',tp, 'tn:',tn)"
   ]
  },
  {
   "cell_type": "code",
   "execution_count": 84,
   "metadata": {},
   "outputs": [
    {
     "data": {
      "text/plain": [
       "[<matplotlib.lines.Line2D at 0x7fa0b4723790>]"
      ]
     },
     "execution_count": 84,
     "metadata": {},
     "output_type": "execute_result"
    },
    {
     "data": {
      "image/png": "[encoded data removed]",
      "text/plain": [
       "<Figure size 432x288 with 1 Axes>"
      ]
     },
     "metadata": {
      "needs_background": "light"
     },
     "output_type": "display_data"
    }
   ],
   "source": [
    "plt.plot(ll)"
   ]
  },
  {
   "cell_type": "code",
   "execution_count": 105,
   "metadata": {},
   "outputs": [],
   "source": [
    "def AdaGrad(df_feature, learning_rate, batch_size, type='bin'):\n",
    "    w = np.zeros(44) if type == 'bin' else np.zeros((1, 44*5))\n",
    "    r = 0\n",
    "    w_list = []\n",
    "    g_list = []\n",
    "    l_list = []\n",
    "    predict_list = []\n",
    "    train_set_x = df_feature.iloc[:dates_iloc[0], :].loc[:, alpha_list].values\n",
    "    train_set_y = df_feature.iloc[:dates_iloc[0], :].loc[:, 'return_'+type].values\n",
    "    B = 0\n",
    "    for data_x, data_y in zip(train_set_x, train_set_y):\n",
    "        _w, g, l = Gradient_Descent_update(w, data_x, data_y, learning_rate, type)\n",
    "        w_list.append(_w)\n",
    "        g_list.append(g)\n",
    "        l_list.append(l)\n",
    "        B += 1\n",
    "        if B == batch_size:\n",
    "            g = np.mean(g_list[-B:], axis=0)\n",
    "            r += np.linalg.norm(g)**2\n",
    "            w = w - g * learning_rate / np.sqrt(r)\n",
    "            if np.linalg.norm(w) > 10:\n",
    "                w = w / np.linalg.norm(w) * 10\n",
    "            B = 0\n",
    "    for month in range(15):\n",
    "        print('begin month', month)\n",
    "        test_set_x = df_feature.iloc[dates_iloc[month]:dates_iloc[month+1], :].loc[:, alpha_list].values\n",
    "        test_set_y = df_feature.iloc[dates_iloc[month]:dates_iloc[month+1], :].loc[:, 'return_'+type].values\n",
    "        \n",
    "        for data_x, data_y in zip(test_set_x, test_set_y):\n",
    "            if type == 'bin':\n",
    "                hat_z = np.dot(w, data_x)\n",
    "                pred = 1 if hat_z > 0 else -1\n",
    "            elif type == 'multi':\n",
    "                hat_z = [np.dot(w[0, i*44:(i+1)*44], data_x) for i in range(5)]\n",
    "                pred = np.argmax(hat_z)+1\n",
    "            predict_list.append(pred)\n",
    "        \n",
    "        train_set_x = test_set_x\n",
    "        train_set_y = test_set_y\n",
    "        B = 0\n",
    "        for data_x, data_y in zip(train_set_x, train_set_y):\n",
    "            _w, g, l = Gradient_Descent_update(w, data_x, data_y, learning_rate, type)\n",
    "            w_list.append(_w)\n",
    "            g_list.append(g)\n",
    "            l_list.append(l)\n",
    "            B += 1\n",
    "            if B == batch_size:\n",
    "                g = np.mean(g_list[-B:], axis=0)\n",
    "                r += np.linalg.norm(g)**2\n",
    "                w = w -  g * learning_rate / np.sqrt(r)\n",
    "                if np.linalg.norm(w) > 10:\n",
    "                    w = w / np.linalg.norm(w) * 10\n",
    "                B = 0\n",
    "        \n",
    "    \n",
    "    return w_list, g_list, l_list, predict_list\n",
    "    "
   ]
  },
  {
   "cell_type": "code",
   "execution_count": 106,
   "metadata": {},
   "outputs": [
    {
     "name": "stdout",
     "output_type": "stream",
     "text": [
      "begin month 0\n",
      "begin month 1\n",
      "begin month 2\n",
      "begin month 3\n",
      "begin month 4\n",
      "begin month 5\n",
      "begin month 6\n",
      "begin month 7\n",
      "begin month 8\n",
      "begin month 9\n",
      "begin month 10\n",
      "begin month 11\n",
      "begin month 12\n",
      "begin month 13\n",
      "begin month 14\n"
     ]
    }
   ],
   "source": [
    "wl, gl, ll, pl = AdaGrad(df_feature, 1e-2, 128, type='bin')"
   ]
  },
  {
   "cell_type": "code",
   "execution_count": 107,
   "metadata": {},
   "outputs": [
    {
     "name": "stdout",
     "output_type": "stream",
     "text": [
      "fp: 334593 fn: 134440 tp: 275443 tn: 138111\n"
     ]
    }
   ],
   "source": [
    "# AdaGrad no iteration, 1e-2, 128. 0.5\n",
    "fp, fn, tp, tn = 0, 0, 0, 0\n",
    "for i in range(len(pl)):\n",
    "    if pl[i] == 1 and bin_y[i] == 1:\n",
    "        tp += 1\n",
    "    elif pl[i] == 1 and bin_y[i] == -1:\n",
    "        fp += 1\n",
    "    elif pl[i] == -1 and bin_y[i] == 1:\n",
    "        fn += 1\n",
    "    elif pl[i] == -1 and bin_y[i] == -1:\n",
    "        tn += 1\n",
    "print('fp:',fp, 'fn:',fn, 'tp:',tp, 'tn:',tn)"
   ]
  },
  {
   "cell_type": "code",
   "execution_count": null,
   "metadata": {},
   "outputs": [],
   "source": []
  },
  {
   "cell_type": "code",
   "execution_count": 111,
   "metadata": {},
   "outputs": [],
   "source": [
    "def Adam(df_feature, learning_rate, batch_size, beta1, beta2, type='bin'):\n",
    "    w = np.zeros(44) if type == 'bin' else np.zeros((1, 44*5))\n",
    "    m = np.zeros(44) if type == 'bin' else np.zeros((1, 44*5))\n",
    "    v = 0\n",
    "    w_list = []\n",
    "    g_list = []\n",
    "    l_list = []\n",
    "    predict_list = []\n",
    "    train_set_x = df_feature.iloc[:dates_iloc[0], :].loc[:, alpha_list].values\n",
    "    train_set_y = df_feature.iloc[:dates_iloc[0], :].loc[:, 'return_'+type].values\n",
    "    B = 0\n",
    "    iter = 1\n",
    "    for data_x, data_y in zip(train_set_x, train_set_y):\n",
    "        _w, g, l = Gradient_Descent_update(w, data_x, data_y, learning_rate, type)\n",
    "        w_list.append(_w)\n",
    "        g_list.append(g)\n",
    "        l_list.append(l)\n",
    "        B += 1\n",
    "        if B == batch_size:\n",
    "            g = np.mean(g_list[-B:], axis=0)\n",
    "            m = beta1 * m + (1 - beta1) * g\n",
    "            v = beta2 * v + (1 - beta2) * np.linalg.norm(g)**2\n",
    "            hatm = m / (1 - beta1**iter)\n",
    "            hatv = v / (1 - beta2**iter)\n",
    "            w = w - hatm * learning_rate / np.sqrt(hatv)\n",
    "            if np.linalg.norm(w) > 10:\n",
    "                w = w / np.linalg.norm(w) * 10\n",
    "            B = 0\n",
    "            iter += 1\n",
    "    for month in range(15):\n",
    "        print('begin month', month)\n",
    "        test_set_x = df_feature.iloc[dates_iloc[month]:dates_iloc[month+1], :].loc[:, alpha_list].values\n",
    "        test_set_y = df_feature.iloc[dates_iloc[month]:dates_iloc[month+1], :].loc[:, 'return_'+type].values\n",
    "        \n",
    "        for data_x, data_y in zip(test_set_x, test_set_y):\n",
    "            if type == 'bin':\n",
    "                hat_z = np.dot(w, data_x)\n",
    "                pred = 1 if hat_z > 0 else -1\n",
    "            elif type == 'multi':\n",
    "                hat_z = [np.dot(w[0, i*44:(i+1)*44], data_x) for i in range(5)]\n",
    "                pred = np.argmax(hat_z)+1\n",
    "            predict_list.append(pred)\n",
    "        \n",
    "        train_set_x = test_set_x\n",
    "        train_set_y = test_set_y\n",
    "        B = 0\n",
    "        for data_x, data_y in zip(train_set_x, train_set_y):\n",
    "            _w, g, l = Gradient_Descent_update(w, data_x, data_y, learning_rate, type)\n",
    "            w_list.append(_w)\n",
    "            g_list.append(g)\n",
    "            l_list.append(l)\n",
    "            B += 1\n",
    "            if B == batch_size:\n",
    "                g = np.mean(g_list[-B:], axis=0)\n",
    "                m = beta1 * m + (1 - beta1) * g\n",
    "                v = beta2 * v + (1 - beta2) * np.linalg.norm(g)**2\n",
    "                hatm = m / (1 - beta1**iter)\n",
    "                hatv = v / (1 - beta2**iter)\n",
    "                w = w - hatm * learning_rate / np.sqrt(hatv)\n",
    "                if np.linalg.norm(w) > 10:\n",
    "                    w = w / np.linalg.norm(w) * 10\n",
    "                B = 0\n",
    "                iter += 1\n",
    "        \n",
    "    \n",
    "    return w_list, g_list, l_list, predict_list\n",
    "    "
   ]
  },
  {
   "cell_type": "code",
   "execution_count": 112,
   "metadata": {},
   "outputs": [
    {
     "name": "stdout",
     "output_type": "stream",
     "text": [
      "begin month 0\n",
      "begin month 1\n",
      "begin month 2\n",
      "begin month 3\n",
      "begin month 4\n",
      "begin month 5\n",
      "begin month 6\n",
      "begin month 7\n",
      "begin month 8\n",
      "begin month 9\n",
      "begin month 10\n",
      "begin month 11\n",
      "begin month 12\n",
      "begin month 13\n",
      "begin month 14\n"
     ]
    }
   ],
   "source": [
    "wl, gl, ll, pl = Adam(df_feature, 1e-2, 128, 0.9, 0.999, type='bin')"
   ]
  },
  {
   "cell_type": "code",
   "execution_count": 113,
   "metadata": {},
   "outputs": [
    {
     "name": "stdout",
     "output_type": "stream",
     "text": [
      "fp: 334774 fn: 134210 tp: 275673 tn: 137930\n"
     ]
    }
   ],
   "source": [
    "# Adam no iteration, 1e-2, 128. 0.5\n",
    "fp, fn, tp, tn = 0, 0, 0, 0\n",
    "for i in range(len(pl)):\n",
    "    if pl[i] == 1 and bin_y[i] == 1:\n",
    "        tp += 1\n",
    "    elif pl[i] == 1 and bin_y[i] == -1:\n",
    "        fp += 1\n",
    "    elif pl[i] == -1 and bin_y[i] == 1:\n",
    "        fn += 1\n",
    "    elif pl[i] == -1 and bin_y[i] == -1:\n",
    "        tn += 1\n",
    "print('fp:',fp, 'fn:',fn, 'tp:',tp, 'tn:',tn)"
   ]
  },
  {
   "cell_type": "code",
   "execution_count": null,
   "metadata": {},
   "outputs": [],
   "source": []
  },
  {
   "cell_type": "code",
   "execution_count": 179,
   "metadata": {},
   "outputs": [],
   "source": [
    "def ONS(df_feature, batch_size, gamma, epsilon, type='bin'):\n",
    "    w = np.zeros(44) if type == 'bin' else np.zeros(44*5)\n",
    "    A = epsilon * np.eye(44) if type == 'bin' else epsilon * np.eye(44*5)\n",
    "    A_inverse = A / epsilon ** 2\n",
    "    w_list = []\n",
    "    g_list = []\n",
    "    l_list = []\n",
    "    predict_list = []\n",
    "    train_set_x = df_feature.iloc[:dates_iloc[0], :].loc[:, alpha_list].values\n",
    "    train_set_y = df_feature.iloc[:dates_iloc[0], :].loc[:, 'return_'+type].values\n",
    "    B = 0\n",
    "    for data_x, data_y in zip(train_set_x, train_set_y):\n",
    "        _w, g, l = Gradient_Descent_update(w.reshape(-1,), data_x, data_y, 0, type)\n",
    "        w_list.append(_w)\n",
    "        g_list.append(g)\n",
    "        l_list.append(l)\n",
    "        B += 1\n",
    "        if B == batch_size:\n",
    "            g = np.mean(g_list[-B:], axis=0)\n",
    "            A = A + np.matmul(g.reshape(-1, 1), g.reshape(1, -1))\n",
    "            # A_inverse = A_inverse + np.matmul(A_inverse, np.matmul(g.reshape(-1, 1), np.matmul(g.reshape(1, -1), A_inverse))) / (1+np.matmul(g.reshape(1,-1), np.matmul(A_inverse, g.reshape(-1,1))))\n",
    "            A_inverse = np.linalg.inv(A)\n",
    "            \n",
    "            w = (w.reshape(-1,1) - np.matmul(A_inverse, g.reshape(-1, 1)) / gamma).reshape(-1,)\n",
    "            if np.linalg.norm(w) > 10:\n",
    "                w = w / np.linalg.norm(w) * 10\n",
    "            B = 0\n",
    "    for month in range(15):\n",
    "        print('begin month', month)\n",
    "        test_set_x = df_feature.iloc[dates_iloc[month]:dates_iloc[month+1], :].loc[:, alpha_list].values\n",
    "        test_set_y = df_feature.iloc[dates_iloc[month]:dates_iloc[month+1], :].loc[:, 'return_'+type].values\n",
    "        \n",
    "        for data_x, data_y in zip(test_set_x, test_set_y):\n",
    "            if type == 'bin':\n",
    "                hat_z = np.dot(w, data_x)\n",
    "                pred = 1 if hat_z > 0 else -1\n",
    "            elif type == 'multi':\n",
    "                hat_z = [np.dot(w[0, i*44:(i+1)*44], data_x) for i in range(5)]\n",
    "                pred = np.argmax(hat_z)+1\n",
    "            predict_list.append(pred)\n",
    "        \n",
    "        train_set_x = test_set_x\n",
    "        train_set_y = test_set_y\n",
    "        B = 0\n",
    "        for data_x, data_y in zip(train_set_x, train_set_y):\n",
    "            _w, g, l = Gradient_Descent_update(w, data_x, data_y, 0, type)\n",
    "            w_list.append(_w)\n",
    "            g_list.append(g)\n",
    "            l_list.append(l)\n",
    "            B += 1\n",
    "            if B == batch_size:\n",
    "                g = np.mean(g_list[-B:], axis=0)\n",
    "                A = A + np.matmul(g.reshape(-1, 1), g.reshape(1, -1))\n",
    "                # A_inverse = A_inverse + np.matmul(A_inverse, np.matmul(g.reshape(-1, 1), np.matmul(g.reshape(1, -1), A_inverse))) / (1+np.matmul(g.reshape(1,-1), np.matmul(A_inverse, g.reshape(-1,1))))\n",
    "                A_inverse = np.linalg.inv(A)\n",
    "                w = (w.reshape(-1,1) - np.matmul(A_inverse, g.reshape(-1, 1)) / gamma).reshape(-1,)\n",
    "                if np.linalg.norm(w) > 10:\n",
    "                    w = w / np.linalg.norm(w) * 10\n",
    "                B = 0\n",
    "        \n",
    "    \n",
    "    return w_list, g_list, l_list, predict_list"
   ]
  },
  {
   "cell_type": "code",
   "execution_count": 181,
   "metadata": {},
   "outputs": [
    {
     "name": "stdout",
     "output_type": "stream",
     "text": [
      "begin month 0\n",
      "begin month 1\n",
      "begin month 2\n",
      "begin month 3\n",
      "begin month 4\n",
      "begin month 5\n",
      "begin month 6\n",
      "begin month 7\n",
      "begin month 8\n",
      "begin month 9\n",
      "begin month 10\n",
      "begin month 11\n",
      "begin month 12\n",
      "begin month 13\n",
      "begin month 14\n"
     ]
    }
   ],
   "source": [
    "wl, gl, ll, pl = ONS(df_feature, 128, 100, 1, type='bin')"
   ]
  },
  {
   "cell_type": "code",
   "execution_count": 182,
   "metadata": {},
   "outputs": [
    {
     "name": "stdout",
     "output_type": "stream",
     "text": [
      "fp: 137360 fn: 290873 tp: 119010 tn: 335344\n"
     ]
    }
   ],
   "source": [
    "# Adam no iteration, 1e-2, 128. 0.5\n",
    "fp, fn, tp, tn = 0, 0, 0, 0\n",
    "for i in range(len(pl)):\n",
    "    if pl[i] == 1 and bin_y[i] == 1:\n",
    "        tp += 1\n",
    "    elif pl[i] == 1 and bin_y[i] == -1:\n",
    "        fp += 1\n",
    "    elif pl[i] == -1 and bin_y[i] == 1:\n",
    "        fn += 1\n",
    "    elif pl[i] == -1 and bin_y[i] == -1:\n",
    "        tn += 1\n",
    "print('fp:',fp, 'fn:',fn, 'tp:',tp, 'tn:',tn)"
   ]
  },
  {
   "cell_type": "code",
   "execution_count": 183,
   "metadata": {},
   "outputs": [
    {
     "data": {
      "text/plain": [
       "[<matplotlib.lines.Line2D at 0x7fa5965e0f40>]"
      ]
     },
     "execution_count": 183,
     "metadata": {},
     "output_type": "execute_result"
    },
    {
     "data": {
      "image/png": "[encoded data removed]",
      "text/plain": [
       "<Figure size 432x288 with 1 Axes>"
      ]
     },
     "metadata": {
      "needs_background": "light"
     },
     "output_type": "display_data"
    }
   ],
   "source": [
    "plt.plot(ll)"
   ]
  },
  {
   "cell_type": "code",
   "execution_count": null,
   "metadata": {},
   "outputs": [],
   "source": []
  },
  {
   "cell_type": "code",
   "execution_count": null,
   "metadata": {},
   "outputs": [],
   "source": []
  },
  {
   "cell_type": "code",
   "execution_count": null,
   "metadata": {},
   "outputs": [],
   "source": []
  },
  {
   "cell_type": "code",
   "execution_count": null,
   "metadata": {},
   "outputs": [],
   "source": [
    "import numpy as np\n",
    "import pandas as pd\n",
    "import numba as nb\n",
    "\n",
    "    \n",
    "def AdaGrad(data_x, data_y, learning_rate, batch_size, momentum_factor, type='bin'):\n",
    "    if type=='bin':\n",
    "        w = np.zeros((1, data_x.shape[1]))\n",
    "        ws = [w]\n",
    "        gs = []\n",
    "        ls = []\n",
    "        for i in range(data_x.shape[0] // batch_size):\n",
    "            r = 0 \n",
    "            w = ws[-1]\n",
    "            ls.append(l_bin(data_x[i*batch_size:(i+1)*batch_size, :], data_y[i*batch_size:(i+1)*batch_size], w))\n",
    "            g = l_bin_grad(data_x[i*batch_size:(i+1)*batch_size, :], data_y[i*batch_size:(i+1)*batch_size], w)\n",
    "            r = r + np.linalg.norm(g) ** 2\n",
    "            w = w - learning_rate / (np.sqrt(r) + 1e-8) * g\n",
    "            w = w / np.linalg.norm(w)\n",
    "            ws.append(w)\n",
    "            gs.append(g)\n",
    "        return ws, gs, ls\n",
    "    elif type=='multi':\n",
    "        w = np.zeros((1, data_x.shape[1]))\n",
    "        ws = [w]\n",
    "        gs = []\n",
    "        ls = []\n",
    "        for i in range(data_x.shape[0] // batch_size):\n",
    "            r = 0 \n",
    "            w = ws[-1]\n",
    "            ls.append(l_multi(data_x[i*batch_size:(i+1)*batch_size, :], data_y[i*batch_size:(i+1)*batch_size], w))\n",
    "            g = l_multi_grad(data_x[i*batch_size:(i+1)*batch_size, :], data_y[i*batch_size:(i+1)*batch_size], w)\n",
    "            r = r + np.linalg.norm(g) ** 2\n",
    "            w = w - learning_rate / (np.sqrt(r) + 1e-8) * g\n",
    "            w = w / np.linalg.norm(w)\n",
    "            ws.append(w)\n",
    "            gs.append(g)\n",
    "        return ws, gs, ls\n",
    "    \n",
    "def Adam(data_x, data_y, learning_rate, batch_size, beta1, beta2, type='bin'):\n",
    "    if type == 'bin':\n",
    "        w = np.zeros((1, data_x.shape[1]))\n",
    "        ws = [w]\n",
    "        gs = []\n",
    "        ls = []\n",
    "        m = np.zeros((1, data_x.shape[1]))\n",
    "        v = 0\n",
    "        for i in range(data_x.shape[0] // batch_size):\n",
    "            w = ws[-1]\n",
    "            ls.append(l_bin(data_x[i*batch_size:(i+1)*batch_size, :], data_y[i*batch_size:(i+1)*batch_size], w))\n",
    "            g = l_bin_grad(data_x[i*batch_size:(i+1)*batch_size, :], data_y[i*batch_size:(i+1)*batch_size], w)\n",
    "            m = beta1 * m + (1 - beta1) * g\n",
    "            v = beta2 * v + (1 - beta2) * np.linalg.norm(g) ** 2\n",
    "            w = w - learning_rate / (np.sqrt(v / 1-beta2 ** i) + 1e-8) * m / (1-beta1 ** i)\n",
    "            w = w / np.linalg.norm(w)\n",
    "            ws.append(w)\n",
    "            gs.append(g)\n",
    "        return ws, gs, ls\n",
    "    elif type == 'multi':\n",
    "        w = np.zeros((1, data_x.shape[1]))\n",
    "        ws = [w]\n",
    "        gs = []\n",
    "        ls = []\n",
    "        m = np.zeros((1, data_x.shape[1]))\n",
    "        v = 0\n",
    "        for i in range(data_x.shape[0] // batch_size):\n",
    "            w = ws[-1]\n",
    "            ls.append(l_multi(data_x[i*batch_size:(i+1)*batch_size, :], data_y[i*batch_size:(i+1)*batch_size], w))\n",
    "            g = l_multi_grad(data_x[i*batch_size:(i+1)*batch_size, :], data_y[i*batch_size:(i+1)*batch_size], w)\n",
    "            m = beta1 * m + (1 - beta1) * g\n",
    "            v = beta2 * v + (1 - beta2) * np.linalg.norm(g) ** 2\n",
    "            w = w - learning_rate / (np.sqrt(v / 1-beta2 ** i) + 1e-8) * m / (1-beta1 ** i)\n",
    "            w = w / np.linalg.norm(w)\n",
    "            ws.append(w)\n",
    "            gs.append(g)\n",
    "        return ws, gs, ls\n",
    "    \n",
    "def Newton_Method(data_x, data_y, gamma, epsilon, batch_size, type='bin'):\n",
    "    if type == 'bin':\n",
    "        w = np.zeros((1, data_x.shape[1]))\n",
    "        ws = [w]\n",
    "        gs = []\n",
    "        ls = []\n",
    "        H = epsilon * np.eye(data_x.shape[1])\n",
    "        for i in range(data_x.shape[0] // batch_size):\n",
    "            w = ws[-1]\n",
    "            ls.append(l_bin(data_x[i*batch_size:(i+1)*batch_size, :], data_y[i*batch_size:(i+1)*batch_size], w))\n",
    "            g = l_bin_grad(data_x[i*batch_size:(i+1)*batch_size, :], data_y[i*batch_size:(i+1)*batch_size], w)\n",
    "            H = H + np.outer(g, g)\n",
    "            w = w - 1 / gamma * np.linalg.inv(H) @ g\n",
    "            w = w / np.linalg.norm(w)\n",
    "            ws.append(w)\n",
    "            gs.append(g)\n",
    "        return ws, gs, ls\n",
    "    elif type == 'multi':\n",
    "        w = np.zeros((1, data_x.shape[1]))\n",
    "        ws = [w]\n",
    "        gs = []\n",
    "        ls = []\n",
    "        H = epsilon * np.eye(data_x.shape[1])\n",
    "        for i in range(data_x.shape[0] // batch_size):\n",
    "            w = ws[-1]\n",
    "            ls.append(l_multi(data_x[i*batch_size:(i+1)*batch_size, :], data_y[i*batch_size:(i+1)*batch_size], w))\n",
    "            g = l_multi_grad(data_x[i*batch_size:(i+1)*batch_size, :], data_y[i*batch_size:(i+1)*batch_size], w)\n",
    "            H = H + np.outer(g, g)\n",
    "            w = w - 1 / gamma * np.linalg.inv(H) @ g\n",
    "            w = w / np.linalg.norm(w)\n",
    "            ws.append(w)\n",
    "            gs.append(g)\n",
    "        return ws, gs, "
   ]
  },
  {
   "cell_type": "code",
   "execution_count": null,
   "metadata": {},
   "outputs": [],
   "source": []
  },
  {
   "cell_type": "code",
   "execution_count": null,
   "metadata": {},
   "outputs": [],
   "source": []
  },
  {
   "cell_type": "code",
   "execution_count": null,
   "metadata": {},
   "outputs": [],
   "source": []
  },
  {
   "cell_type": "code",
   "execution_count": null,
   "metadata": {
    "ExecuteTime": {
     "end_time": "2023-03-04T12:58:48.091218Z",
     "start_time": "2023-03-04T12:58:48.088015Z"
    }
   },
   "outputs": [],
   "source": [
    "fields = list(data.keys())"
   ]
  },
  {
   "cell_type": "code",
   "execution_count": null,
   "metadata": {},
   "outputs": [],
   "source": [
    "open_ = data['OpenPrice']\n",
    "res = open_.count(axis=1)\n",
    "tickers = list(res[res > 900].index)"
   ]
  },
  {
   "cell_type": "code",
   "execution_count": null,
   "metadata": {},
   "outputs": [],
   "source": [
    "dates = [i for i in list(open_.columns) if i <= '20210329']"
   ]
  },
  {
   "cell_type": "code",
   "execution_count": null,
   "metadata": {},
   "outputs": [],
   "source": []
  },
  {
   "cell_type": "code",
   "execution_count": null,
   "metadata": {},
   "outputs": [],
   "source": [
    "df_selected = df_feature[['date', 'ticker', 'high', 'open_', 'low', 'close_', 'volume', 'vwap', 'value', 'ret'] + ['alpha'+str(i) for i in selected_alpha]]"
   ]
  },
  {
   "cell_type": "code",
   "execution_count": null,
   "metadata": {},
   "outputs": [],
   "source": [
    "len(selected_alpha)"
   ]
  },
  {
   "cell_type": "code",
   "execution_count": null,
   "metadata": {},
   "outputs": [],
   "source": [
    "save = df_selected.dropna().reset_index(drop=True)"
   ]
  },
  {
   "cell_type": "code",
   "execution_count": null,
   "metadata": {},
   "outputs": [],
   "source": [
    "save['return_bin'] = np.sign(save['ret'] - 0.0013)"
   ]
  },
  {
   "cell_type": "code",
   "execution_count": null,
   "metadata": {},
   "outputs": [],
   "source": [
    "save['return_mul'] = (save['ret']).apply(lambda x: 1 if x<-0.02 else 2 if x<-0.005 else 3 if x<0.005 else 4 if x<0.015 else 5)"
   ]
  },
  {
   "cell_type": "code",
   "execution_count": null,
   "metadata": {},
   "outputs": [],
   "source": [
    "save.to_pickle('/Volumes/WDSN570/df_feature_clean_v2.pkl')"
   ]
  },
  {
   "cell_type": "code",
   "execution_count": null,
   "metadata": {},
   "outputs": [],
   "source": [
    "open_.iloc[:20,:20]"
   ]
  },
  {
   "cell_type": "code",
   "execution_count": null,
   "metadata": {},
   "outputs": [],
   "source": [
    "for num in selected_alpha:\n",
    "    name = 'alpha'+str(num)\n",
    "    _m = save[name].mean()\n",
    "    _s = save[name].std()\n",
    "    save[name] = save[name].apply(lambda x: _m+5*_s if x>_m+5*_s else _m-5*_s if x<_m-5*_s else x)"
   ]
  },
  {
   "cell_type": "code",
   "execution_count": null,
   "metadata": {},
   "outputs": [],
   "source": [
    "tmp_df = open_.iloc[:20,:20].copy()"
   ]
  },
  {
   "cell_type": "code",
   "execution_count": null,
   "metadata": {},
   "outputs": [],
   "source": [
    "tmp_df"
   ]
  },
  {
   "cell_type": "code",
   "execution_count": null,
   "metadata": {},
   "outputs": [],
   "source": [
    "tmp_df.iloc[0,0]=0"
   ]
  },
  {
   "cell_type": "code",
   "execution_count": null,
   "metadata": {},
   "outputs": [],
   "source": [
    "tmp_df['000001'] = tmp_df['000001'].apply(lambda x: _m+5*_s if x>_m+5*_s else _m-5*_s if x<_m-5*_s else x)"
   ]
  },
  {
   "cell_type": "code",
   "execution_count": null,
   "metadata": {},
   "outputs": [],
   "source": []
  },
  {
   "cell_type": "code",
   "execution_count": null,
   "metadata": {},
   "outputs": [],
   "source": [
    "tmp_df"
   ]
  },
  {
   "cell_type": "code",
   "execution_count": null,
   "metadata": {},
   "outputs": [],
   "source": []
  },
  {
   "cell_type": "code",
   "execution_count": null,
   "metadata": {},
   "outputs": [],
   "source": []
  },
  {
   "cell_type": "code",
   "execution_count": null,
   "metadata": {},
   "outputs": [],
   "source": []
  },
  {
   "cell_type": "code",
   "execution_count": null,
   "metadata": {},
   "outputs": [],
   "source": []
  },
  {
   "cell_type": "code",
   "execution_count": null,
   "metadata": {},
   "outputs": [],
   "source": []
  },
  {
   "cell_type": "code",
   "execution_count": null,
   "metadata": {},
   "outputs": [],
   "source": []
  },
  {
   "cell_type": "code",
   "execution_count": null,
   "metadata": {},
   "outputs": [],
   "source": [
    "save['alpha1'].std(),save['alpha1'].mean()"
   ]
  },
  {
   "cell_type": "code",
   "execution_count": null,
   "metadata": {},
   "outputs": [],
   "source": [
    "for i in selected_alpha:\n",
    "    name='alpha'+str(i)\n",
    "    print(name,end=' ')\n",
    "    print(save[save[name]<-5*save[name].std() +save[name].mean()].shape, end=' ')\n",
    "    print(save[save[name]>5*save[name].std() + save[name].mean()].shape)"
   ]
  },
  {
   "cell_type": "code",
   "execution_count": null,
   "metadata": {},
   "outputs": [],
   "source": []
  },
  {
   "cell_type": "code",
   "execution_count": null,
   "metadata": {},
   "outputs": [],
   "source": []
  },
  {
   "cell_type": "code",
   "execution_count": null,
   "metadata": {},
   "outputs": [],
   "source": [
    "for i in range(100):\n",
    "    print(i, np.percentile(save['ret'].values-0.0013, i))"
   ]
  },
  {
   "cell_type": "code",
   "execution_count": null,
   "metadata": {},
   "outputs": [],
   "source": []
  },
  {
   "cell_type": "code",
   "execution_count": null,
   "metadata": {},
   "outputs": [],
   "source": []
  },
  {
   "cell_type": "code",
   "execution_count": null,
   "metadata": {},
   "outputs": [],
   "source": []
  },
  {
   "cell_type": "code",
   "execution_count": null,
   "metadata": {},
   "outputs": [],
   "source": [
    "df_feature = pd.read_pickle('/Volumes/WDSN570/data_df_save1.pkl')\n",
    "for i in range(2,7):\n",
    "    tmp_df = pd.read_pickle('/Volumes/WDSN570/data_df_save'+str(i)+'.pkl')\n",
    "    df_feature = pd.merge(df_feature, tmp_df, how='left', on=['date','ticker'])"
   ]
  },
  {
   "cell_type": "code",
   "execution_count": null,
   "metadata": {},
   "outputs": [],
   "source": [
    "dates = list(df_feature[['date']].drop_duplicates()['date'].values)"
   ]
  },
  {
   "cell_type": "code",
   "execution_count": null,
   "metadata": {},
   "outputs": [],
   "source": [
    "df_feature = df_feature[df_feature['date']<='20210329']"
   ]
  },
  {
   "cell_type": "code",
   "execution_count": null,
   "metadata": {},
   "outputs": [],
   "source": [
    "df_feature.count()"
   ]
  },
  {
   "cell_type": "code",
   "execution_count": null,
   "metadata": {},
   "outputs": [],
   "source": [
    "original_alpha = [1,2,3,4,5,6,7,8,9,12, 14,15,16,17,18,19,20,25,27,28,29,32,33,34,35,36,37,38,39,40,41,42,43,44,45,46,47,48,49,50,51,52,53,54,60,61,62,63,64,65,66,67,68,72]"
   ]
  },
  {
   "cell_type": "code",
   "execution_count": null,
   "metadata": {},
   "outputs": [],
   "source": [
    "selected_alpha = [1,2,3,4,5,6,7,8,9,12,\n",
    "                  14,15,16,17,18,19,20,27,28,29,\n",
    "                  32,33,35,36,38,39,40,43,44,45,\n",
    "                  46,47,48,52,53,54,60,61,62,63,\n",
    "                  64,65,67,68]"
   ]
  },
  {
   "cell_type": "code",
   "execution_count": null,
   "metadata": {},
   "outputs": [],
   "source": [
    "res = df_feature.count().to_dict()"
   ]
  },
  {
   "cell_type": "code",
   "execution_count": null,
   "metadata": {},
   "outputs": [],
   "source": [
    "for k in res.keys():\n",
    "    if res[k]<30000000: \n",
    "        #if int(k[-2:]) in selected_alpha:\n",
    "            print(k, res[k])"
   ]
  },
  {
   "cell_type": "code",
   "execution_count": null,
   "metadata": {},
   "outputs": [],
   "source": [
    "df_feature['return_bin'] = np.sign(df_feature['ret']-0.0013)"
   ]
  },
  {
   "cell_type": "code",
   "execution_count": null,
   "metadata": {},
   "outputs": [],
   "source": [
    "df_feature['date'].count()"
   ]
  },
  {
   "cell_type": "code",
   "execution_count": null,
   "metadata": {},
   "outputs": [],
   "source": [
    "df_feature['return_bin'].mean()"
   ]
  },
  {
   "cell_type": "code",
   "execution_count": null,
   "metadata": {},
   "outputs": [],
   "source": [
    "plt.hist(df_feature['ret'].values,bins=100)"
   ]
  },
  {
   "cell_type": "code",
   "execution_count": null,
   "metadata": {},
   "outputs": [],
   "source": [
    "np.percentile(df_feature['ret'].values,100)"
   ]
  },
  {
   "cell_type": "code",
   "execution_count": null,
   "metadata": {},
   "outputs": [],
   "source": [
    "max(df_feature['ret'].values)"
   ]
  },
  {
   "cell_type": "code",
   "execution_count": null,
   "metadata": {},
   "outputs": [],
   "source": [
    "df_feature[df_feature['ret']>0.5]"
   ]
  },
  {
   "cell_type": "code",
   "execution_count": null,
   "metadata": {},
   "outputs": [],
   "source": [
    "open_ = data['OpenPrice']"
   ]
  },
  {
   "cell_type": "code",
   "execution_count": null,
   "metadata": {},
   "outputs": [],
   "source": [
    "open_.loc['300937',:].iloc[990:]"
   ]
  },
  {
   "cell_type": "code",
   "execution_count": null,
   "metadata": {},
   "outputs": [],
   "source": [
    "open_.loc['300869',:].count()"
   ]
  },
  {
   "cell_type": "code",
   "execution_count": null,
   "metadata": {},
   "outputs": [],
   "source": []
  },
  {
   "cell_type": "code",
   "execution_count": null,
   "metadata": {},
   "outputs": [],
   "source": [
    "df_feature[(df_feature['ticker']=='300937') & (df_feature['date']>'20210125')]"
   ]
  },
  {
   "cell_type": "code",
   "execution_count": null,
   "metadata": {},
   "outputs": [],
   "source": []
  },
  {
   "cell_type": "code",
   "execution_count": null,
   "metadata": {},
   "outputs": [],
   "source": []
  },
  {
   "cell_type": "code",
   "execution_count": null,
   "metadata": {},
   "outputs": [],
   "source": [
    "data[\"HighestPrice\"].loc[tickers].iloc[:,:1032].T"
   ]
  },
  {
   "cell_type": "code",
   "execution_count": null,
   "metadata": {
    "ExecuteTime": {
     "end_time": "2023-03-04T12:58:55.407277Z",
     "start_time": "2023-03-04T12:58:55.404082Z"
    }
   },
   "outputs": [],
   "source": [
    "high = data[\"HighestPrice\"].loc[tickers].iloc[:,:1032].T\n",
    "floatshare = data[\"FloatShare\"].loc[tickers].iloc[:,:1032].T\n",
    "open_ = data[\"OpenPrice\"].loc[tickers].iloc[:,:1032].T\n",
    "low = data[\"LowestPrice\"].loc[tickers].iloc[:,:1032].T\n",
    "close_ = data[\"ClosePrice\"].loc[tickers].iloc[:,:1032].T\n",
    "volume = data[\"TradeVolume\"].loc[tickers].iloc[:,:1032].T\n",
    "vwap = data[\"VWAP\"].loc[tickers].iloc[:,:1032].T\n",
    "\n",
    "value = data[\"TradeValue\"].loc[tickers].iloc[:,:1032].T\n",
    "\n",
    "# market_cap = data[\"FloatMarketValue\"].T\n",
    "# turnover = data[\"TurnOverRate\"].T / 100\n",
    "\n",
    "ret = open_.pct_change().shift(-2)"
   ]
  },
  {
   "cell_type": "code",
   "execution_count": null,
   "metadata": {},
   "outputs": [],
   "source": []
  },
  {
   "cell_type": "code",
   "execution_count": null,
   "metadata": {
    "ExecuteTime": {
     "end_time": "2023-03-04T12:58:57.498079Z",
     "start_time": "2023-03-04T12:58:57.494838Z"
    }
   },
   "outputs": [],
   "source": [
    "high.count().sum()"
   ]
  },
  {
   "cell_type": "code",
   "execution_count": null,
   "metadata": {
    "ExecuteTime": {
     "end_time": "2023-03-04T13:07:30.800995Z",
     "start_time": "2023-03-04T13:07:30.797574Z"
    }
   },
   "outputs": [],
   "source": [
    "def calc_alpha1(high, low):\n",
    "    \"\"\"\n",
    "\n",
    "    :param high:\n",
    "    :param low:\n",
    "    :return:\n",
    "    \"\"\"\n",
    "\n",
    "    result = ((high - low) / (high + low)).rolling(20, min_periods=10).std()\n",
    "\n",
    "    return -result\n",
    "\n",
    "\n",
    "alpha1 = calc_alpha1(high, low)"
   ]
  },
  {
   "cell_type": "code",
   "execution_count": null,
   "metadata": {},
   "outputs": [],
   "source": [
    "def calc_alpha2(close, vwap):\n",
    "    result = (close / vwap - 1).ewm(halflife=20).mean()\n",
    "    return -result\n",
    "alpha2 = calc_alpha2(close_, vwap)"
   ]
  },
  {
   "cell_type": "code",
   "execution_count": null,
   "metadata": {},
   "outputs": [],
   "source": [
    "def calc_alpha3(low, high, close, open):\n",
    "    tmp = (high / low) - np.maximum(close, open) / np.minimum(close, open)\n",
    "    alpha = -tmp.ewm(halflife=20).std()\n",
    "    return alpha\n",
    "alpha3 = calc_alpha3(low, high, close_, open_)"
   ]
  },
  {
   "cell_type": "code",
   "execution_count": null,
   "metadata": {},
   "outputs": [],
   "source": [
    "def cs_regression(y, x):\n",
    "    result = np.full_like(x, fill_value=np.nan)\n",
    "\n",
    "    for i in prange(x.shape[0]):\n",
    "        x1, y1 = x[i, :], y[i, :]\n",
    "        valid = np.bitwise_and(np.isfinite(x1), np.isfinite(y1))\n",
    "        x1, y1 = x1[valid], y1[valid]\n",
    "\n",
    "        if len(x1) > 100 and len(y1) > 100:\n",
    "            tmp = np.column_stack((np.ones(len(x1)), x1))\n",
    "            cov = tmp.T.dot(tmp)\n",
    "            if np.linalg.det(cov) == 0:\n",
    "                continue\n",
    "            coef = np.linalg.inv(cov).dot(tmp.T).dot(y1)\n",
    "            pred = tmp.dot(coef)\n",
    "            resid = y1 - pred\n",
    "            result[i][valid] = resid\n",
    "\n",
    "    return result\n",
    "\n",
    "def cs_regression_multiple(y, *args):\n",
    "    \"\"\"\n",
    "    only work for two variable case\n",
    "    :param y:\n",
    "    :param window:\n",
    "    :param args:\n",
    "    :return:\n",
    "    \"\"\"\n",
    "    result = np.full_like(y, fill_value=np.nan)\n",
    "\n",
    "    for i in range(y.shape[0]):\n",
    "        x1, y1 = np.array([arg[i, :] for arg in args]).T, y[i, :]\n",
    "\n",
    "        valid = np.bitwise_and(np.isfinite(x1[:, 0]), np.isfinite(y1))\n",
    "\n",
    "        for j in range(1, len(args)):\n",
    "            valid = np.bitwise_and(valid, np.isfinite(x1[:, j]))\n",
    "\n",
    "        x1, y1 = x1[valid], y1[valid]\n",
    "\n",
    "        if len(x1) > 50 and len(y1) > 50:\n",
    "            tmp = np.column_stack((np.ones(len(x1)), x1))\n",
    "            cov = tmp.T.dot(tmp)\n",
    "            if np.linalg.det(cov) == 0:\n",
    "                continue\n",
    "            coef = np.linalg.inv(cov).dot(tmp.T).dot(y1)\n",
    "            pred = tmp.dot(coef)\n",
    "            resid = y1 - pred\n",
    "            result[i][valid] = resid\n",
    "\n",
    "    return result\n",
    "\n",
    "def calc_alpha4(vwap, open, close):\n",
    "    vwap_ret = vwap.pct_change()\n",
    "    open_close_ret = open / close.shift(1) - 1\n",
    "    ret = close.pct_change()\n",
    "\n",
    "    resid = cs_regression_multiple(vwap_ret.values, open_close_ret.values, ret.values)\n",
    "\n",
    "    alpha = -pd.DataFrame(resid, index=vwap.index, columns=vwap.columns).rolling(20, min_periods=10).std()\n",
    "    return alpha\n",
    "alpha4 = calc_alpha4(vwap, open_, close_)"
   ]
  },
  {
   "cell_type": "code",
   "execution_count": null,
   "metadata": {},
   "outputs": [],
   "source": [
    "def calc_alpha5(volume, vwap):\n",
    "    log_volume = np.log(volume)\n",
    "    ret = vwap.pct_change()\n",
    "    p = ret * log_volume.pct_change()\n",
    "    alpha = p.ewm(halflife=10).mean()\n",
    "\n",
    "    return alpha\n",
    "alpha5 = calc_alpha5(volume, vwap)"
   ]
  },
  {
   "cell_type": "code",
   "execution_count": null,
   "metadata": {},
   "outputs": [],
   "source": [
    "@njit\n",
    "def ts_corr(input1, input2, period=20):\n",
    "    \"\"\"\n",
    "    Numpuy version corr\n",
    "    Params:\n",
    "        input1:\n",
    "        input2:\n",
    "    \"\"\"\n",
    "\n",
    "    result = np.full_like(input1, fill_value=np.nan)\n",
    "    for i in prange(input1.shape[1]):\n",
    "        for j in range(period, input1.shape[0]):\n",
    "            tmp1, tmp2 = input1[j - period:j, i], input2[j - period:j, i]\n",
    "            valid = np.bitwise_and(np.isfinite(tmp1), np.isfinite(tmp2))\n",
    "            corr = np.corrcoef(tmp1[valid], tmp2[valid])[0][1]\n",
    "            result[j, i] = corr\n",
    "    return result\n",
    "\n",
    "def calc_alpha6(volume, close):\n",
    "    result = -1 * ts_corr(volume.values, close.values, 20)\n",
    "    alpha = pd.DataFrame(result, index=volume.index, columns=volume.columns)\n",
    "\n",
    "    # 新加的特性，认为这个是异常值\n",
    "    alpha[abs(alpha) > 0.95] = np.nan\n",
    "\n",
    "    return alpha\n",
    "\n",
    "alpha6 = calc_alpha6(volume, close_)"
   ]
  },
  {
   "cell_type": "code",
   "execution_count": null,
   "metadata": {},
   "outputs": [],
   "source": [
    "def calc_alpha7(volume, open, close):\n",
    "    result = -1 * ts_corr(volume.pct_change().values, (open / close.shift(1) - 1).values, 20)\n",
    "    alpha = pd.DataFrame(result, index=volume.index, columns=volume.columns)\n",
    "\n",
    "    # 新加的特性，认为这个是异常值\n",
    "    alpha[abs(alpha) > 0.95] = np.nan\n",
    "\n",
    "    return alpha\n",
    "\n",
    "alpha7 = calc_alpha7(volume, open_, close_)"
   ]
  },
  {
   "cell_type": "code",
   "execution_count": null,
   "metadata": {},
   "outputs": [],
   "source": [
    "def calc_alpha8(volume, close):\n",
    "    result = -1 * ts_corr(volume.pct_change().values, close.pct_change().values, 20)\n",
    "    alpha = pd.DataFrame(result, index=volume.index, columns=volume.columns)\n",
    "\n",
    "    # 新加的特性，认为这个是异常值\n",
    "    alpha[abs(alpha) > 0.95] = np.nan\n",
    "\n",
    "    return alpha\n",
    "alpha8 = calc_alpha8(volume, close_)"
   ]
  },
  {
   "cell_type": "code",
   "execution_count": null,
   "metadata": {},
   "outputs": [],
   "source": [
    "def calc_alpha9(vwap, volume, window=20):\n",
    "    @njit\n",
    "    def _ts_corr(input1, input2, period):\n",
    "        \"\"\"\n",
    "        Numpuy version corr\n",
    "        Params:\n",
    "            input1: price\n",
    "            input2: volume\n",
    "        \"\"\"\n",
    "\n",
    "        result2 = np.full_like(input1, fill_value=np.nan)\n",
    "        for i in prange(input1.shape[1]):\n",
    "            for j in range(period, input1.shape[0]):\n",
    "                tmp1, tmp2 = input1[j - period:j, i], input2[j - period:j, i]\n",
    "                valid = np.bitwise_and(np.isfinite(tmp1), np.isfinite(tmp2))\n",
    "\n",
    "                tmp1, tmp2 = tmp1[valid], tmp2[valid]\n",
    "\n",
    "                down1, down2 = tmp1[tmp1 < 0], tmp2[tmp1 < 0]\n",
    "\n",
    "                corr2 = np.corrcoef(down1, down2)[0][1]\n",
    "                result2[j, i] = corr2\n",
    "\n",
    "        return result2\n",
    "\n",
    "    ret = vwap.pct_change()\n",
    "    ret = ret.replace(np.inf, np.nan)\n",
    "    ret = ret.replace(-np.inf, np.nan)\n",
    "\n",
    "    volume_pct_chg = volume.pct_change()\n",
    "    volume_pct_chg = volume_pct_chg.replace(np.inf, np.nan)\n",
    "    volume_pct_chg = volume_pct_chg.replace(-np.inf, np.nan)\n",
    "\n",
    "    corr2 = _ts_corr(ret.values, volume_pct_chg.values, window)\n",
    "    corr2 = pd.DataFrame(corr2, index=vwap.index, columns=vwap.columns)\n",
    "\n",
    "    return corr2\n",
    "alpha9 = calc_alpha9(vwap, volume)"
   ]
  },
  {
   "cell_type": "code",
   "execution_count": null,
   "metadata": {},
   "outputs": [],
   "source": [
    "def calc_alpha12(close_, high, low, hl=20):\n",
    "    \"\"\"比传统的振幅好一些\"\"\"\n",
    "\n",
    "    ret = close_.pct_change()\n",
    "\n",
    "    mask1 = (volume > volume.rolling(5).mean()).astype(int)\n",
    "    mask4 = (close_ > close_.rolling(5).mean()).astype(int)\n",
    "    mask5 = (ret > 0).astype(int)\n",
    "\n",
    "    ratio1 = high / low  # 似乎不需要复权\n",
    "    ratio1 = ratio1 * mask1\n",
    "    alpha1_ewm = ratio1.replace(0, np.nan)\n",
    "    alpha1_ewm = alpha1_ewm.ewm(halflife=hl, ignore_na=True).std()\n",
    "\n",
    "    ratio4 = (high / low) * mask4\n",
    "    ratio5 = (high / low) * mask5\n",
    "\n",
    "    alpha4_ewm = ratio4.replace(0, np.nan).ewm(halflife=hl, ignore_na=True).std()\n",
    "    alpha5_ewm = ratio5.replace(0, np.nan).ewm(halflife=hl, ignore_na=True).std()\n",
    "\n",
    "    return alpha4_ewm + alpha5_ewm\n",
    "alpha12 = calc_alpha12(close_, high, low)"
   ]
  },
  {
   "cell_type": "code",
   "execution_count": null,
   "metadata": {},
   "outputs": [],
   "source": [
    "def calc_alpha14(close_, volume):\n",
    "    \"\"\"布林带上下轨的交易量的比值\"\"\"\n",
    "    location3 = (close_ >= (\n",
    "            close_.rolling(20, min_periods=10).mean() + close_.rolling(20, min_periods=10).std())).astype(int)\n",
    "    location4 = (close_ <= (\n",
    "            close_.rolling(20, min_periods=10).mean() - close_.rolling(20, min_periods=10).std())).astype(int)\n",
    "    volume_up = (volume * location3).replace(0, np.nan)\n",
    "    volume_down = (volume * location4).replace(0, np.nan)\n",
    "\n",
    "    volume_ratio = np.log(volume_up.ewm(halflife=30).mean() / volume_down.ewm(halflife=30).mean())\n",
    "\n",
    "    return volume_ratio\n",
    "alpha14 = calc_alpha14(close_, volume)"
   ]
  },
  {
   "cell_type": "code",
   "execution_count": null,
   "metadata": {},
   "outputs": [],
   "source": [
    "def ts_regression_residual_vol(y, x, period=20):\n",
    "    result = np.full_like(y, fill_value=np.nan)\n",
    "\n",
    "    for i in range(y.shape[0] - period):\n",
    "        for j in range(y.shape[1]):\n",
    "            y1 = y[i:i + period, j]\n",
    "            xs = x[i:i + period, j]\n",
    "\n",
    "            valid = np.bitwise_and(np.isfinite(xs), np.isfinite(y1))\n",
    "\n",
    "            y1 = y1[valid]\n",
    "            x1 = xs[valid]\n",
    "\n",
    "            if len(x1) >= 3 and len(y1) >= 3:  # otherwise too few data\n",
    "                tmp = np.column_stack((np.ones(len(x1)), x1))\n",
    "                cov = tmp.T.dot(tmp)\n",
    "                if np.linalg.det(cov) == 0:\n",
    "                    continue\n",
    "                coef = np.linalg.inv(cov).dot(tmp.T).dot(y1)\n",
    "                pred = tmp.dot(coef)\n",
    "                resid = y1 - pred\n",
    "                result[i + period, j] = np.std(resid)\n",
    "\n",
    "    return result\n",
    "def calc_alpha15(volume):\n",
    "    ar = ts_regression_residual_vol(volume.values, volume.shift(1).values, 20)\n",
    "    factor = pd.DataFrame(ar, index=volume.index, columns=volume.columns)\n",
    "    return factor\n",
    "alpha15 = calc_alpha15(volume)"
   ]
  },
  {
   "cell_type": "code",
   "execution_count": null,
   "metadata": {},
   "outputs": [],
   "source": [
    "def calc_alpha16(volume, close_, window=30):\n",
    "    def calc(variable, mask, hl=30, inverse=False, method=\"mean\"):\n",
    "        if inverse:\n",
    "            tmp = variable * ((mask - 1) * -1)\n",
    "        else:\n",
    "            tmp = variable * mask\n",
    "\n",
    "        tmp = tmp.replace(0, np.nan)\n",
    "\n",
    "        if method == \"mean\":\n",
    "            result = tmp.ewm(halflife=hl, ignore_na=True).mean()\n",
    "        elif method == \"std\":\n",
    "            result = tmp.ewm(halflife=hl, ignore_na=True).std()\n",
    "\n",
    "        return result\n",
    "\n",
    "    variable3 = vwap / close_\n",
    "\n",
    "    mask1 = (volume > volume.rolling(5).mean()).astype(int)\n",
    "\n",
    "    factor6 = calc(variable3, mask1, inverse=False, method=\"mean\")\n",
    "    raw2 = variable3.ewm(halflife=window).mean()\n",
    "\n",
    "    return factor6 + raw2\n",
    "alpha16 = calc_alpha16(volume, close_, window=30)"
   ]
  },
  {
   "cell_type": "code",
   "execution_count": null,
   "metadata": {},
   "outputs": [],
   "source": [
    "def calc_alpha17(volume, close_, window=20):\n",
    "    def calc(variable, mask, hl=30, inverse=False, method=\"mean\"):\n",
    "        if inverse:\n",
    "            tmp = variable * ((mask - 1) * -1)\n",
    "        else:\n",
    "            tmp = variable * mask\n",
    "\n",
    "        tmp = tmp.replace(0, np.nan)\n",
    "\n",
    "        if method == \"mean\":\n",
    "            result = tmp.ewm(halflife=hl, ignore_na=True).mean()\n",
    "        elif method == \"std\":\n",
    "            result = tmp.ewm(halflife=hl, ignore_na=True).std()\n",
    "\n",
    "        return result\n",
    "\n",
    "    variable3 = vwap / close_\n",
    "\n",
    "    mask2 = (volume > volume.rolling(20, min_periods=5).mean()).astype(int)\n",
    "\n",
    "    factor17 = calc(variable3, mask2, hl=window, inverse=False, method=\"mean\")\n",
    "\n",
    "    return factor17\n",
    "alpha17 = calc_alpha17(volume, close_)"
   ]
  },
  {
   "cell_type": "code",
   "execution_count": null,
   "metadata": {},
   "outputs": [],
   "source": [
    "def calc_alpha18(high, low, close_, window=30):\n",
    "    def calc(variable, mask, hl=30, inverse=False, method=\"mean\"):\n",
    "        if inverse:\n",
    "            tmp = variable * ((mask - 1) * -1)\n",
    "        else:\n",
    "            tmp = variable * mask\n",
    "\n",
    "        tmp = tmp.replace(0, np.nan)\n",
    "\n",
    "        if method == \"mean\":\n",
    "            result = tmp.ewm(halflife=hl, ignore_na=True).mean()\n",
    "        elif method == \"std\":\n",
    "            result = tmp.ewm(halflife=hl, ignore_na=True).std()\n",
    "\n",
    "        return result\n",
    "\n",
    "    variable1 = high / low\n",
    "    mask3 = (close_.ewm(halflife=5).mean() > close_.ewm(halflife=20).mean()).astype(int)\n",
    "    factor27 = calc(variable1, mask3, hl=window, inverse=False, method=\"std\")\n",
    "    return factor27\n",
    "alpha18 = calc_alpha18(high, low, close_, window=30)"
   ]
  },
  {
   "cell_type": "code",
   "execution_count": null,
   "metadata": {},
   "outputs": [],
   "source": [
    "def calc_alpha19(volume, close_, window=30):\n",
    "    ret = close_.pct_change()\n",
    "    variable2 = close_ / open_\n",
    "    variable3 = vwap / close_\n",
    "\n",
    "    raw2 = variable2.ewm(halflife=window).mean()\n",
    "    raw3 = variable3.ewm(halflife=window).mean()\n",
    "\n",
    "    return (raw2.fillna(0) + raw3.fillna(0)).replace(0, np.nan)\n",
    "alpha19 = calc_alpha19(volume, close_)"
   ]
  },
  {
   "cell_type": "code",
   "execution_count": null,
   "metadata": {},
   "outputs": [],
   "source": [
    "def calc_alpha20(volume, close_, window=20):\n",
    "    def calc(variable, mask, hl=30, inverse=False, method=\"mean\"):\n",
    "        if inverse:\n",
    "            tmp = variable * ((mask - 1) * -1)\n",
    "        else:\n",
    "            tmp = variable * mask\n",
    "\n",
    "        tmp = tmp.replace(0, np.nan)\n",
    "\n",
    "        if method == \"mean\":\n",
    "            result = tmp.ewm(halflife=hl, ignore_na=True).mean()\n",
    "        elif method == \"std\":\n",
    "            result = tmp.ewm(halflife=hl, ignore_na=True).std()\n",
    "\n",
    "        return result\n",
    "\n",
    "    ret = close_.pct_change()\n",
    "    variable3 = vwap / close_\n",
    "\n",
    "    mask4 = (close_ > close_.rolling(5).mean()).astype(int)\n",
    "    mask5 = (ret > 0).astype(int)\n",
    "\n",
    "    factor39 = calc(variable3, mask4, hl=window, inverse=False, method=\"mean\")\n",
    "    factor47 = calc(variable3, mask5, hl=window, inverse=False, method=\"mean\")\n",
    "\n",
    "    return factor39 + factor47\n",
    "alpha20 = calc_alpha20(volume, close_)"
   ]
  },
  {
   "cell_type": "code",
   "execution_count": null,
   "metadata": {},
   "outputs": [],
   "source": [
    "def calc_alpha25(high, low):\n",
    "    \"\"\"\n",
    "    highled correlated with alpha3 or alpha1 or alpha16\n",
    "    :param high:\n",
    "    :param low:\n",
    "    :return:\n",
    "    \"\"\"\n",
    "    high_ret = high.pct_change()\n",
    "    low_ret = low.pct_change()\n",
    "\n",
    "    high_vol = high_ret.ewm(halflife=10).std()\n",
    "    low_vol = low_ret.ewm(halflife=10).std()\n",
    "\n",
    "    result = (high_vol / low_vol)\n",
    "    result = result.ewm(halflife=5).mean()\n",
    "    result[result.ge(result.quantile(0.9, axis=1), axis=0)] = np.nan\n",
    "\n",
    "    # result = result.clip(result.quantile(0.1, axis=1), result.quantile(0.9, axis=1), axis=0)\n",
    "\n",
    "    return result\n",
    "alpha25 = calc_alpha25(high, low)"
   ]
  },
  {
   "cell_type": "code",
   "execution_count": null,
   "metadata": {},
   "outputs": [],
   "source": [
    "def calc_alpha27(high, low, open_):\n",
    "    \"\"\"\n",
    "    ADTM\n",
    "\n",
    "    \"\"\"\n",
    "    dtm = np.maximum(high / open_ - 1, open_.pct_change())\n",
    "    dbm = np.maximum(open_ / low - 1, open_.pct_change())\n",
    "    # stm = dtm.rolling(20, min_periods=10).sum()\n",
    "    # sbm = dbm.rolling(20, min_periods=10).sum()\n",
    "    stm = dtm.ewm(halflife=10).mean()\n",
    "    sbm = dbm.ewm(halflife=10).mean()\n",
    "\n",
    "    adtm = (sbm - stm) / (stm + sbm)\n",
    "\n",
    "    return adtm.ewm(halflife=5).mean()\n",
    "alpha27 = calc_alpha27(high, low, open_)"
   ]
  },
  {
   "cell_type": "code",
   "execution_count": null,
   "metadata": {},
   "outputs": [],
   "source": [
    "def calc_alpha28(vwap):\n",
    "    twap60 = vwap.rolling(60, min_periods=20).mean()\n",
    "    vwap60 = (vwap * volume).rolling(60, min_periods=20).sum() / volume.rolling(60, min_periods=20).sum()\n",
    "    ratio = np.log(twap60 / vwap60)\n",
    "\n",
    "    return ratio\n",
    "alpha28 = calc_alpha28(vwap)"
   ]
  },
  {
   "cell_type": "code",
   "execution_count": null,
   "metadata": {},
   "outputs": [],
   "source": [
    "def calc_alpha29(high, low, ):\n",
    "    high_ma = high.ewm(halflife=5).mean()\n",
    "    low_ma = low.ewm(halflife=5).mean()\n",
    "\n",
    "    result = (high_ma / low_ma).rolling(20, min_periods=10).std()\n",
    "\n",
    "    return result\n",
    "alpha29 = calc_alpha29(high, low)"
   ]
  },
  {
   "cell_type": "code",
   "execution_count": null,
   "metadata": {},
   "outputs": [],
   "source": [
    "def calc_alpha32(close_, volume, short_window=20, long_window=60):\n",
    "    ma20 = close_.rolling(short_window, min_periods=short_window // 2).mean()\n",
    "    mask_above_ma20 = (close_ > ma20).astype(int).replace(0, np.nan)\n",
    "\n",
    "    vol_mask_above_ma20_mean = (volume * mask_above_ma20).rolling(long_window, min_periods=10).mean()\n",
    "    close_distance_mask_to_ma20 = close_ / (close_ * mask_above_ma20).rolling(long_window, min_periods=10).mean()\n",
    "\n",
    "    vol_mask_above_ma20_ratio = volume / vol_mask_above_ma20_mean\n",
    "\n",
    "    deviation1 = ts_corr(vol_mask_above_ma20_ratio.values, close_distance_mask_to_ma20.values, 30)\n",
    "    deviation1 = pd.DataFrame(deviation1, index=close_.index, columns=close_.columns)\n",
    "\n",
    "    deviation1[abs(deviation1) > 0.9] = np.nan\n",
    "\n",
    "    deviation1_ewm = deviation1.ewm(halflife=10).mean()\n",
    "\n",
    "    return deviation1_ewm\n",
    "alpha32 = calc_alpha32(close_, volume)"
   ]
  },
  {
   "cell_type": "code",
   "execution_count": null,
   "metadata": {},
   "outputs": [],
   "source": [
    "def calc_alpha33(close_, volume, short_window=20, long_window=60):\n",
    "    \"\"\"\n",
    "    Most correlated alpha eod_jxma_alpha019: 0.6564167243317636\n",
    "    :param close_:\n",
    "    :param volume:\n",
    "    :param short_window:\n",
    "    :param long_window:\n",
    "    :return:\n",
    "    \"\"\"\n",
    "    ma20 = close_.rolling(short_window, min_periods=short_window // 2).mean()\n",
    "    mask_above_ma20 = (close_ > ma20).astype(int).replace(0, np.nan)\n",
    "\n",
    "    range_rate_per_log_volume = np.exp((high / low)) / np.sqrt(volume)\n",
    "    range_rate_per_log_volume_mask_above_20 = (range_rate_per_log_volume * mask_above_ma20).replace(0, np.nan)\n",
    "    range_rate_per_log_volume_mask_above_20_mean = \\\n",
    "        range_rate_per_log_volume_mask_above_20.rolling(long_window, min_periods=long_window // 10).mean()\n",
    "\n",
    "    return range_rate_per_log_volume_mask_above_20_mean\n",
    "alpha33 = calc_alpha33(close_, volume)"
   ]
  },
  {
   "cell_type": "code",
   "execution_count": null,
   "metadata": {},
   "outputs": [],
   "source": [
    "class Cut:\n",
    "    variable1 = vwap / close_\n",
    "    variable2 = vwap / open_\n",
    "    variable3 = vwap / high\n",
    "    variable4 = vwap / low\n",
    "    variable5 = close_ / open_\n",
    "    variable6 = open_ / close_.shift(1)\n",
    "    variable7 = high / np.maximum(close_, open_)\n",
    "    variable8 = np.minimum(open_, close_) / low\n",
    "\n",
    "#     variable9 = close_.pct_change() * universe\n",
    "#     variable10 = variable9.rolling(5).std()\n",
    "#     variable11 = turnover\n",
    "    variable12 = high / low\n",
    "    variable13 = np.log(value)\n",
    "    variable14 = np.log(volume)\n",
    "\n",
    "    # 12.1 新加变量\n",
    "    variable15 = (high - low) / (high + low)\n",
    "    variable16 = (high + low).pct_change()\n",
    "    variable17 = (open_ + close_).pct_change()\n",
    "    variable18 = abs((open_ - close_)) / (high - low)\n",
    "    variable19 = (high / low) / np.log(volume)\n",
    "    variable20 = abs(close_ / open_) / np.log(volume)\n",
    "    variable21 = vwap / (close_ + open_)\n",
    "    variable22 = vwap / (high + low)\n",
    "\n",
    "    mask1 = (close_ >= close_.rolling(5).max()).astype(int)\n",
    "    mask2 = (close_ >= close_.rolling(20, min_periods=10).max()).astype(int)\n",
    "    mask3 = (close_ <= close_.rolling(60, min_periods=30).max()).astype(int)\n",
    "\n",
    "    mask4 = (close_ <= close_.rolling(5).min()).astype(int)\n",
    "    mask5 = (close_ <= close_.rolling(20, min_periods=10).min()).astype(int)\n",
    "    mask6 = (close_ <= close_.rolling(60, min_periods=30).min()).astype(int)\n",
    "\n",
    "    mask7 = (close_ <= close_.rolling(5).mean() - close_.rolling(5).std()).astype(int)\n",
    "    mask8 = (close_ <= close_.rolling(20, min_periods=10).mean() - close_.rolling(20, min_periods=10).std()).astype(int)\n",
    "    mask9 = (close_ >= close_.rolling(5).mean() + close_.rolling(5).std()).astype(int)\n",
    "    mask10 = (close_ >= close_.rolling(20, min_periods=10).mean() + close_.rolling(20, min_periods=10).std()).astype(\n",
    "        int)\n",
    "\n",
    "    mask11 = (close_.ewm(halflife=5).mean() >= close_.ewm(halflife=20).mean()).astype(int)\n",
    "\n",
    "    mask12 = (volume >= volume.rolling(5).mean()).astype(int)\n",
    "    mask13 = (volume >= volume.rolling(20, min_periods=10).mean()).astype(int)\n",
    "    mask14 = (vwap - np.minimum(close_, open_)) > (np.maximum(close_, open_) - vwap)\n",
    "\n",
    "    @staticmethod\n",
    "    def _helper(variable, mask, window):\n",
    "        up_df = (variable * mask).replace(0, np.nan)\n",
    "        up_mean = up_df.rolling(window, min_periods=window // 10).mean()\n",
    "        up_std = up_df.rolling(window, min_periods=window // 10).std()\n",
    "        up_log_zscore = signlog(up_mean / up_std).replace(np.inf, np.nan).replace(-np.inf, np.nan)\n",
    "\n",
    "        down_df = (variable * (mask + 1)).replace(2, np.nan)  # opposite way\n",
    "        down_mean = down_df.rolling(window, min_periods=window // 10).mean()\n",
    "        down_std = down_df.rolling(window, min_periods=window // 10).std()\n",
    "        down_log_zscore = signlog(down_mean / down_std).replace(np.inf, np.nan).replace(-np.inf, np.nan)\n",
    "\n",
    "        mean_ratio = (up_mean / down_mean).replace(np.inf, np.nan).replace(-np.inf, np.nan)\n",
    "        std_ratio = (up_std / down_std).replace(np.inf, np.nan).replace(-np.inf, np.nan)\n",
    "        zscore_ratio = (up_log_zscore / down_log_zscore).replace(np.inf, np.nan).replace(-np.inf, np.nan)\n",
    "\n",
    "        return up_mean, up_std, up_log_zscore, mean_ratio, std_ratio, zscore_ratio\n",
    "\n",
    "    @classmethod\n",
    "    def calc_alpha34(self):\n",
    "        mean2, _, _, _, _, _ = self._helper(self.variable1, self.mask2, window=60)\n",
    "\n",
    "        return mean2\n",
    "\n",
    "    @classmethod\n",
    "    def calc_alpha35(self):\n",
    "        _, _, _, _, ud_std_ratio2, _ = self._helper(self.variable3, self.mask9, window=60)\n",
    "\n",
    "        return ud_std_ratio2\n",
    "\n",
    "    @classmethod\n",
    "    def calc_alpha36(self):\n",
    "        _, std1, _, _, _, _ = self._helper(self.variable14, self.mask3, window=60)\n",
    "\n",
    "        return std1\n",
    "\n",
    "    @classmethod\n",
    "    def calc_alpha37(self):\n",
    "        mean2, _, _, _, _, _ = self._helper(self.variable14, self.mask2, window=60)\n",
    "\n",
    "        return mean2\n",
    "\n",
    "    @classmethod\n",
    "    def calc_alpha38(self):\n",
    "        _, _, log_zscore, _, _, _ = self._helper(self.variable14, self.mask3, window=60)\n",
    "\n",
    "        return log_zscore\n",
    "\n",
    "    @classmethod\n",
    "    def calc_alpha39(self):\n",
    "        _, _, _, mean_ratio2, _, _ = self._helper(self.variable15, self.mask1, window=60)\n",
    "\n",
    "        return mean_ratio2\n",
    "\n",
    "    @classmethod\n",
    "    def calc_alpha40(self):\n",
    "        _, _, log_zscore, _, _, _ = self._helper(self.variable15, self.mask3, window=60)\n",
    "\n",
    "        return log_zscore\n",
    "\n",
    "    @classmethod\n",
    "    def calc_alpha41(self):\n",
    "        _, _, _, mean_ratio1, _, _ = self._helper(self.variable15, self.mask8, window=60)\n",
    "\n",
    "        return mean_ratio1\n",
    "\n",
    "    @classmethod\n",
    "    def calc_alpha42(self):\n",
    "        _, _, _, mean_ratio1, _, _ = self._helper(self.variable15, self.mask10, window=60)\n",
    "\n",
    "        return mean_ratio1\n",
    "\n",
    "    @classmethod\n",
    "    def calc_alpha43(self):\n",
    "        _, _, _, _, _, ud_zscore2 = self._helper(self.variable15, self.mask1, window=60)\n",
    "\n",
    "        return ud_zscore2\n",
    "\n",
    "    @classmethod\n",
    "    def calc_alpha44(self):\n",
    "        mean, _, _, _, _, _ = self._helper(self.variable1, self.mask3, window=60)\n",
    "\n",
    "        return mean\n",
    "\n",
    "    @classmethod\n",
    "    def calc_alpha45(self):\n",
    "        mean3, _, _, _, _, _ = self._helper(self.variable5, self.mask12, window=60)\n",
    "\n",
    "        return mean3\n",
    "\n",
    "    @classmethod\n",
    "    def calc_alpha46(self):\n",
    "        _, _, log_zscore, _, _, _ = self._helper(self.variable19, self.mask13, window=60)\n",
    "\n",
    "        return log_zscore\n",
    "\n",
    "    @classmethod\n",
    "    def calc_alpha47(self):\n",
    "        _, _, _, _, _, ud_log_zscore = self._helper(self.variable20, self.mask1, window=60)\n",
    "\n",
    "        return ud_log_zscore\n",
    "\n",
    "    @classmethod\n",
    "    def calc_alpha48(self):\n",
    "        _, _, log_zscore, _, _, _ = self._helper(self.variable20, self.mask3, window=60)\n",
    "\n",
    "        return log_zscore\n",
    "\n",
    "    @classmethod\n",
    "    def calc_alpha49(self):\n",
    "        _, _, _, _, _, ud_log_zscore = self._helper(self.variable20, self.mask10, window=60)\n",
    "\n",
    "        return ud_log_zscore\n",
    "\n",
    "    @classmethod\n",
    "    def calc_alpha50(self):\n",
    "        _, _, _, _, _, ud_log_zscore = self._helper(self.variable3, self.mask2, window=60)\n",
    "\n",
    "        return ud_log_zscore\n",
    "\n",
    "    @classmethod\n",
    "    def calc_alpha51(self):\n",
    "        mean, _, _, _, _, _ = self._helper(self.variable1, self.mask10, window=60)\n",
    "\n",
    "        return mean\n",
    "\n",
    "    @classmethod\n",
    "    def calc_alpha52(self):\n",
    "        mean2, _, _, _, _, _ = self._helper(self.variable1, self.mask12, window=60)\n",
    "\n",
    "        return mean2\n",
    "\n",
    "    @classmethod\n",
    "    def calc_alpha53(self):\n",
    "        _, _, _, _, _, log_zscore = self._helper(self.variable3, self.mask9, window=120)\n",
    "        return log_zscore\n",
    "\n",
    "    @classmethod\n",
    "    def calc_alpha54(self):\n",
    "        mean1, _, _, _, _, _ = self._helper(self.variable5, self.mask3, window=120)\n",
    "        return mean1\n",
    "\n",
    "    @classmethod\n",
    "    def calc_alpha55(self):\n",
    "        _, _, _, _, std_ratio, _ = self._helper(self.variable9, self.mask1, window=120)\n",
    "        return std_ratio\n",
    "\n",
    "    @classmethod\n",
    "    def calc_alpha56(self):\n",
    "        _, _, _, mean_ratio, _, _ = self._helper(self.variable10, self.mask10, window=120)\n",
    "        return mean_ratio\n",
    "\n",
    "    @classmethod\n",
    "    def calc_alpha57(self):\n",
    "        _, _, log_zscore, _, _, _ = self._helper(self.variable11, self.mask3, window=60)\n",
    "        return log_zscore\n",
    "\n",
    "    @classmethod\n",
    "    def calc_alpha58(self):\n",
    "        _, _, _, mean_ratio, _, _ = self._helper(self.variable11, self.mask4, window=60)\n",
    "        return mean_ratio\n",
    "\n",
    "    @classmethod\n",
    "    def calc_alpha59(self):\n",
    "        _, _, _, _, std_ratio, _ = self._helper(self.variable11, self.mask8, window=120)\n",
    "        return std_ratio\n",
    "\n",
    "    @classmethod\n",
    "    def calc_alpha60(self):\n",
    "        _, std, _, _, _, _ = self._helper(self.variable14, self.mask13, window=120)\n",
    "\n",
    "        return std\n",
    "\n",
    "    @classmethod\n",
    "    def calc_alpha61(self):\n",
    "        _, _, log_zscore, _, _, _ = self._helper(self.variable14, self.mask12, window=120)\n",
    "\n",
    "        return log_zscore\n",
    "\n",
    "    @classmethod\n",
    "    def calc_alpha62(self):\n",
    "        _, _, log_zscore, _, _, _ = self._helper(self.variable14, self.mask3, window=120)\n",
    "\n",
    "        return log_zscore\n",
    "\n",
    "    @classmethod\n",
    "    def calc_alpha63(self):\n",
    "        _, std, _, _, _, _ = self._helper(self.variable14, self.mask4, window=120)\n",
    "\n",
    "        return std\n",
    "\n",
    "    @classmethod\n",
    "    def calc_alpha64(self):\n",
    "        _, _, _, mean_ratio2, _, _ = self._helper(self.variable15, self.mask1, window=120)\n",
    "\n",
    "        return mean_ratio2\n",
    "\n",
    "    @classmethod\n",
    "    def calc_alpha65(self):\n",
    "        _, _, _, mean_ratio2, _, _ = self._helper(self.variable15, self.mask7, window=120)\n",
    "\n",
    "        return mean_ratio2\n",
    "\n",
    "    @classmethod\n",
    "    def calc_alpha66(self):\n",
    "        _, _, _, mean_ratio1, _, _ = self._helper(self.variable15, self.mask8, window=120)\n",
    "\n",
    "        return mean_ratio1\n",
    "\n",
    "    @classmethod\n",
    "    def calc_alpha67(self):\n",
    "        _, _, _, _, std_ratio2, _ = self._helper(self.variable17, self.mask9, window=120)\n",
    "\n",
    "        return std_ratio2\n",
    "\n",
    "    @classmethod\n",
    "    def calc_alpha68(self):\n",
    "        _, _, _, _, _, ud_zscore = self._helper(self.variable19, self.mask13, window=120)\n",
    "\n",
    "        return ud_zscore\n",
    "\n",
    "    @classmethod\n",
    "    def calc_alpha69(self):\n",
    "        _, _, log_zscore, _, _, _ = self._helper(self.variable11, self.mask13, window=60)\n",
    "\n",
    "        return log_zscore\n",
    "\n",
    "    @classmethod\n",
    "    def calc_alpha70(self):\n",
    "        _, _, _, mean_ratio1, _, _ = self._helper(self.variable11, self.mask7, window=60)\n",
    "\n",
    "        return mean_ratio1\n"
   ]
  },
  {
   "cell_type": "code",
   "execution_count": null,
   "metadata": {},
   "outputs": [],
   "source": [
    "def signlog(x):\n",
    "    return np.sign(x) * np.log(np.abs(x) + 1e-5)\n",
    "c = Cut()\n",
    "alpha34 = c.calc_alpha34()\n",
    "alpha35 = c.calc_alpha35()\n",
    "alpha36 = c.calc_alpha36()\n",
    "alpha37 = c.calc_alpha37()\n"
   ]
  },
  {
   "cell_type": "code",
   "execution_count": null,
   "metadata": {},
   "outputs": [],
   "source": [
    "alpha38 = c.calc_alpha38()\n",
    "alpha39 = c.calc_alpha39()\n",
    "alpha40 = c.calc_alpha40()\n",
    "alpha41 = c.calc_alpha41()\n",
    "alpha42 = c.calc_alpha42()"
   ]
  },
  {
   "cell_type": "code",
   "execution_count": null,
   "metadata": {},
   "outputs": [],
   "source": [
    "alpha43 = c.calc_alpha43()\n",
    "alpha44 = c.calc_alpha44()\n",
    "alpha45 = c.calc_alpha45()\n",
    "alpha46 = c.calc_alpha46()\n",
    "alpha47 = c.calc_alpha47()"
   ]
  },
  {
   "cell_type": "code",
   "execution_count": null,
   "metadata": {},
   "outputs": [],
   "source": [
    "alpha48 = c.calc_alpha48()\n",
    "alpha49 = c.calc_alpha49()\n",
    "alpha50 = c.calc_alpha50()\n",
    "alpha51 = c.calc_alpha51()\n",
    "alpha52 = c.calc_alpha52()"
   ]
  },
  {
   "cell_type": "code",
   "execution_count": null,
   "metadata": {},
   "outputs": [],
   "source": [
    "alpha53 = c.calc_alpha53()\n",
    "alpha54 = c.calc_alpha54()\n",
    "# alpha55 = c.calc_alpha55()\n",
    "# alpha56 = c.calc_alpha56()\n",
    "# alpha57 = c.calc_alpha57()"
   ]
  },
  {
   "cell_type": "code",
   "execution_count": null,
   "metadata": {},
   "outputs": [],
   "source": [
    "# alpha58 = c.calc_alpha58()\n",
    "# alpha59 = c.calc_alpha59()\n",
    "alpha60 = c.calc_alpha60()\n",
    "alpha61 = c.calc_alpha61()\n",
    "alpha62 = c.calc_alpha62()"
   ]
  },
  {
   "cell_type": "code",
   "execution_count": null,
   "metadata": {},
   "outputs": [],
   "source": [
    "alpha63 = c.calc_alpha63()\n",
    "alpha64 = c.calc_alpha64()\n",
    "alpha65 = c.calc_alpha65()\n",
    "alpha66 = c.calc_alpha66()\n",
    "alpha67 = c.calc_alpha67()\n",
    "alpha68 = c.calc_alpha68()\n",
    "# alpha69 = c.calc_alpha69()\n",
    "# alpha70 = c.calc_alpha70()\n"
   ]
  },
  {
   "cell_type": "code",
   "execution_count": null,
   "metadata": {},
   "outputs": [],
   "source": [
    "def calc_alpha72(close_, volume):\n",
    "    price_macd = close_.ewm(halflife=5).mean() / close_.ewm(halflife=20).mean()\n",
    "    price_macd = price_macd.ewm(halflife=5).mean()\n",
    "\n",
    "    volume_macd = volume.ewm(halflife=5).mean() / volume.ewm(halflife=20).mean()\n",
    "    volume_macd = volume_macd.ewm(halflife=5).mean()\n",
    "\n",
    "    factor1 = ts_corr(price_macd.values, volume_macd.values, 20)\n",
    "    factor1 = pd.DataFrame(factor1, index=close_.index, columns=close_.columns)\n",
    "    factor1[abs(factor1) > 0.99] = np.nan\n",
    "\n",
    "    return factor1\n",
    "alpha72 = calc_alpha72(close_, volume)"
   ]
  },
  {
   "cell_type": "code",
   "execution_count": null,
   "metadata": {},
   "outputs": [],
   "source": []
  },
  {
   "cell_type": "code",
   "execution_count": null,
   "metadata": {},
   "outputs": [],
   "source": [
    "tmp = high.stack().reset_index().rename(columns={'level_0': 'date', 'level_1': 'ticker', 0: varname})"
   ]
  },
  {
   "cell_type": "code",
   "execution_count": null,
   "metadata": {},
   "outputs": [],
   "source": [
    "save_df_blank = tmp.loc[:,['date', 'ticker']].copy()"
   ]
  },
  {
   "cell_type": "code",
   "execution_count": null,
   "metadata": {},
   "outputs": [],
   "source": []
  },
  {
   "cell_type": "code",
   "execution_count": null,
   "metadata": {},
   "outputs": [],
   "source": [
    "save_df_blank = high.stack().reset_index().rename(columns={'level_0': 'date', 'level_1': 'ticker', 0: '1'})[['date','ticker']].copy()"
   ]
  },
  {
   "cell_type": "code",
   "execution_count": null,
   "metadata": {},
   "outputs": [],
   "source": [
    "save_df = save_df_blank.copy()\n",
    "for varname in ['high', 'open_', 'low', 'close_', 'volume', 'vwap', 'value', 'ret']:\n",
    "    temp_df = locals()[varname]\n",
    "    temp_df = temp_df.stack().reset_index().rename(columns={'level_0': 'date', 'level_1': 'ticker', 0: varname})\n",
    "    save_df = pd.merge(save_df, temp_df, how='left')\n",
    "save_df.to_pickle('/Volumes/WDSN570/data_df_save1.pkl')"
   ]
  },
  {
   "cell_type": "code",
   "execution_count": null,
   "metadata": {},
   "outputs": [],
   "source": [
    "save_df = save_df_blank.copy()\n",
    "for varnum in [1,2,3,4,5,6,7,8,9,12]:\n",
    "    varname = 'alpha'+str(varnum)\n",
    "    temp_df = locals()[varname]\n",
    "    temp_df = temp_df.stack().reset_index().rename(columns={'level_0': 'date', 'level_1': 'ticker', 0: varname})\n",
    "    save_df = pd.merge(save_df, temp_df, how='left')\n",
    "save_df.to_pickle('/Volumes/WDSN570/data_df_save2.pkl')\n"
   ]
  },
  {
   "cell_type": "code",
   "execution_count": null,
   "metadata": {},
   "outputs": [],
   "source": [
    "save_df = save_df_blank.copy()\n",
    "for varnum in [14,15,16,17,18,19,20,25,27,28]:\n",
    "    varname = 'alpha'+str(varnum)\n",
    "    temp_df = locals()[varname]\n",
    "    temp_df = temp_df.stack().reset_index().rename(columns={'level_0': 'date', 'level_1': 'ticker', 0: varname})\n",
    "    save_df = pd.merge(save_df, temp_df, how='left')\n",
    "save_df.to_pickle('/Volumes/WDSN570/data_df_save3.pkl')\n"
   ]
  },
  {
   "cell_type": "code",
   "execution_count": null,
   "metadata": {},
   "outputs": [],
   "source": [
    "save_df = save_df_blank.copy()\n",
    "for varnum in [29,32,33,34,35,36,37,38,39,40]:\n",
    "    varname = 'alpha'+str(varnum)\n",
    "    temp_df = locals()[varname]\n",
    "    temp_df = temp_df.stack().reset_index().rename(columns={'level_0': 'date', 'level_1': 'ticker', 0: varname})\n",
    "    save_df = pd.merge(save_df, temp_df, how='left')\n",
    "save_df.to_pickle('/Volumes/WDSN570/data_df_save4.pkl')\n"
   ]
  },
  {
   "cell_type": "code",
   "execution_count": null,
   "metadata": {},
   "outputs": [],
   "source": [
    "save_df = save_df_blank.copy()\n",
    "for varnum in [41,42,43,44,45,46,47,48,49,50]:\n",
    "    varname = 'alpha'+str(varnum)\n",
    "    temp_df = locals()[varname]\n",
    "    temp_df = temp_df.stack().reset_index().rename(columns={'level_0': 'date', 'level_1': 'ticker', 0: varname})\n",
    "    save_df = pd.merge(save_df, temp_df, how='left')\n",
    "save_df.to_pickle('/Volumes/WDSN570/data_df_save5.pkl')\n"
   ]
  },
  {
   "cell_type": "code",
   "execution_count": null,
   "metadata": {},
   "outputs": [],
   "source": [
    "save_df = save_df_blank.copy()\n",
    "for varnum in [51,52,53,54,60,61,62,63,64,65,66,67,68,72]:\n",
    "    varname = 'alpha'+str(varnum)\n",
    "    temp_df = locals()[varname]\n",
    "    temp_df = temp_df.stack().reset_index().rename(columns={'level_0': 'date', 'level_1': 'ticker', 0: varname})\n",
    "    save_df = pd.merge(save_df, temp_df, how='left')\n",
    "save_df.to_pickle('/Volumes/WDSN570/data_df_save6.pkl')\n"
   ]
  },
  {
   "cell_type": "code",
   "execution_count": null,
   "metadata": {},
   "outputs": [],
   "source": [
    "54"
   ]
  },
  {
   "cell_type": "code",
   "execution_count": null,
   "metadata": {},
   "outputs": [],
   "source": [
    "for i in range(34,78):print(i,end=',')"
   ]
  },
  {
   "cell_type": "code",
   "execution_count": null,
   "metadata": {},
   "outputs": [],
   "source": [
    "fields"
   ]
  },
  {
   "cell_type": "code",
   "execution_count": null,
   "metadata": {},
   "outputs": [],
   "source": []
  },
  {
   "cell_type": "code",
   "execution_count": null,
   "metadata": {
    "ExecuteTime": {
     "end_time": "2023-03-04T13:12:06.053783Z",
     "start_time": "2023-03-04T13:12:06.051189Z"
    }
   },
   "outputs": [],
   "source": [
    "\n",
    "\n",
    "\n",
    "\n",
    "\n"
   ]
  },
  {
   "cell_type": "code",
   "execution_count": null,
   "metadata": {
    "ExecuteTime": {
     "end_time": "2023-03-04T13:12:06.798194Z",
     "start_time": "2023-03-04T13:12:06.794658Z"
    }
   },
   "outputs": [],
   "source": [
    "li = list(df.columns)"
   ]
  },
  {
   "cell_type": "code",
   "execution_count": null,
   "metadata": {
    "ExecuteTime": {
     "end_time": "2023-03-04T13:14:04.109364Z",
     "start_time": "2023-03-04T13:14:04.105118Z"
    }
   },
   "outputs": [],
   "source": [
    "li[1031]"
   ]
  },
  {
   "cell_type": "code",
   "execution_count": null,
   "metadata": {
    "ExecuteTime": {
     "end_time": "2023-03-04T13:12:10.335425Z",
     "start_time": "2023-03-04T13:12:10.331125Z"
    }
   },
   "outputs": [],
   "source": [
    "np.dot(A,A)"
   ]
  },
  {
   "cell_type": "code",
   "execution_count": null,
   "metadata": {
    "ExecuteTime": {
     "end_time": "2023-03-04T13:18:54.059474Z",
     "start_time": "2023-03-04T13:18:54.055135Z"
    }
   },
   "outputs": [],
   "source": [
    "sorted([[10,30],[20,60],[80,100],[150,180],[0,1]])"
   ]
  },
  {
   "cell_type": "code",
   "execution_count": null,
   "metadata": {
    "ExecuteTime": {
     "end_time": "2023-03-09T00:22:53.391235Z",
     "start_time": "2023-03-09T00:22:52.375198Z"
    }
   },
   "outputs": [],
   "source": [
    "import matplotlib.pyplot as plt\n",
    "def plot(i):\n",
    "    X = [1, 2, 3, 4]\n",
    "    y = [j*i*j for j in X]\n",
    "    plt.plot(X, y)\n",
    "    plt.show()\n",
    "\n",
    "for i in range(4):\n",
    "    plot(i)"
   ]
  },
  {
   "cell_type": "code",
   "execution_count": null,
   "metadata": {},
   "outputs": [],
   "source": []
  }
 ],
 "metadata": {
  "kernelspec": {
   "display_name": "Python 3",
   "language": "python",
   "name": "python3"
  },
  "language_info": {
   "codemirror_mode": {
    "name": "ipython",
    "version": 3
   },
   "file_extension": ".py",
   "mimetype": "text/x-python",
   "name": "python",
   "nbconvert_exporter": "python",
   "pygments_lexer": "ipython3",
   "version": "3.8.5"
  },
  "toc": {
   "base_numbering": 1,
   "nav_menu": {},
   "number_sections": true,
   "sideBar": true,
   "skip_h1_title": false,
   "title_cell": "Table of Contents",
   "title_sidebar": "Contents",
   "toc_cell": false,
   "toc_position": {},
   "toc_section_display": true,
   "toc_window_display": false
  },
  "varInspector": {
   "cols": {
    "lenName": 16,
    "lenType": 16,
    "lenVar": 40
   },
   "kernels_config": {
    "python": {
     "delete_cmd_postfix": "",
     "delete_cmd_prefix": "del ",
     "library": "var_list.py",
     "varRefreshCmd": "print(var_dic_list())"
    },
    "r": {
     "delete_cmd_postfix": ") ",
     "delete_cmd_prefix": "rm(",
     "library": "var_list.r",
     "varRefreshCmd": "cat(var_dic_list()) "
    }
   },
   "types_to_exclude": [
    "module",
    "function",
    "builtin_function_or_method",
    "instance",
    "_Feature"
   ],
   "window_display": false
  }
 },
 "nbformat": 4,
 "nbformat_minor": 4
}
